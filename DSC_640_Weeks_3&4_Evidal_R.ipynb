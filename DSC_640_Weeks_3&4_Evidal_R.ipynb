{
 "cells": [
  {
   "cell_type": "markdown",
   "metadata": {},
   "source": [
    "##Exercise 2.2\n",
    "These two weeks we are going to be focused on line charts and step charts and using various tools to create these visualizations. Since the course is structured in 2-week blocks, every 2 weeks are going to be focused on a different visualization type that you create in various tools. This is to get you familiar with the pros/cons of Python, R, Tableau, and PowerBI – all tools you are going to run into in the real world, but that all have their own set of pros/cons. The book will cover one way to create a visualization, but we all know we have many tools at our disposal, so throughout these exercises you will be challenged to learn a variety of ways. Follow the recommendations and suggestions from your book on the design, and use videos and other sources to find various ways to build the same visualizations.\n",
    "\n",
    "Sample Datasets can be found here for everything I am going to ask you to do – but you don’t have to use this data, you can use whatever data you want if you want to try learning on something else.\n",
    "\n",
    "Sample Datasets (click on the Downloads tab.)\n",
    "\n",
    "You may also download them directly from this link:\n",
    "\n",
    "Exercise 2.2 Datasets (click the link to download a folder containing the datasets.)\n",
    "\n",
    "You need to submit:\n",
    "\n",
    "1 line chart and 1 step chart using Tableau or PowerBI\n",
    "\n",
    "1 line chart and 1 step chart using Python\n",
    "\n",
    "1 line chart and 1 step chart using R"
   ]
  },
  {
   "cell_type": "code",
   "execution_count": 1,
   "metadata": {},
   "outputs": [
    {
     "name": "stderr",
     "output_type": "stream",
     "text": [
      "Warning message:\n",
      "\"package 'ggplot2' was built under R version 3.6.3\"Warning message:\n",
      "\"package 'readxl' was built under R version 3.6.3\""
     ]
    }
   ],
   "source": [
    "library(ggplot2)\n",
    "library(readxl)"
   ]
  },
  {
   "cell_type": "code",
   "execution_count": 2,
   "metadata": {},
   "outputs": [],
   "source": [
    "my_data<-read_excel(\"C:\\\\Users\\\\pro_v\\\\OneDrive\\\\Desktop\\\\Bellevue University Data Science\\\\DSC 640\\\\Week 3-4\\\\world-population.xlsm\")"
   ]
  },
  {
   "cell_type": "code",
   "execution_count": 3,
   "metadata": {},
   "outputs": [
    {
     "name": "stdout",
     "output_type": "stream",
     "text": [
      "tibble [50 x 2] (S3: tbl_df/tbl/data.frame)\n",
      " $ Year      : num [1:50] 1960 1961 1962 1963 1964 ...\n",
      " $ Population: num [1:50] 3.03e+09 3.07e+09 3.12e+09 3.19e+09 3.25e+09 ...\n"
     ]
    }
   ],
   "source": [
    "str(my_data)"
   ]
  },
  {
   "cell_type": "code",
   "execution_count": 4,
   "metadata": {},
   "outputs": [
    {
     "data": {
      "text/html": [
       "<table>\n",
       "<thead><tr><th scope=col>Year</th><th scope=col>Population</th></tr></thead>\n",
       "<tbody>\n",
       "\t<tr><td>1960      </td><td>3028654024</td></tr>\n",
       "\t<tr><td>1961      </td><td>3068356747</td></tr>\n",
       "\t<tr><td>1962      </td><td>3121963107</td></tr>\n",
       "\t<tr><td>1963      </td><td>3187471383</td></tr>\n",
       "\t<tr><td>1964      </td><td>3253112403</td></tr>\n",
       "\t<tr><td>1965      </td><td>3320396924</td></tr>\n",
       "\t<tr><td>1966      </td><td>3390712300</td></tr>\n",
       "\t<tr><td>1967      </td><td>3460521851</td></tr>\n",
       "\t<tr><td>1968      </td><td>3531547287</td></tr>\n",
       "\t<tr><td>1969      </td><td>3606994959</td></tr>\n",
       "\t<tr><td>1970      </td><td>3682870688</td></tr>\n",
       "\t<tr><td>1971      </td><td>3761750672</td></tr>\n",
       "\t<tr><td>1972      </td><td>3839147707</td></tr>\n",
       "\t<tr><td>1973      </td><td>3915742695</td></tr>\n",
       "\t<tr><td>1974      </td><td>3992806090</td></tr>\n",
       "\t<tr><td>1975      </td><td>4068032705</td></tr>\n",
       "\t<tr><td>1976      </td><td>4141383058</td></tr>\n",
       "\t<tr><td>1977      </td><td>4214499013</td></tr>\n",
       "\t<tr><td>1978      </td><td>4288485981</td></tr>\n",
       "\t<tr><td>1979      </td><td>4363754326</td></tr>\n",
       "\t<tr><td>1980      </td><td>4439638086</td></tr>\n",
       "\t<tr><td>1981      </td><td>4516734312</td></tr>\n",
       "\t<tr><td>1982      </td><td>4595890494</td></tr>\n",
       "\t<tr><td>1983      </td><td>4675178812</td></tr>\n",
       "\t<tr><td>1984      </td><td>4753877875</td></tr>\n",
       "\t<tr><td>1985      </td><td>4834206631</td></tr>\n",
       "\t<tr><td>1986      </td><td>4918126890</td></tr>\n",
       "\t<tr><td>1987      </td><td>5004006066</td></tr>\n",
       "\t<tr><td>1988      </td><td>5090899475</td></tr>\n",
       "\t<tr><td>1989      </td><td>5178059174</td></tr>\n",
       "\t<tr><td>1990      </td><td>5266783430</td></tr>\n",
       "\t<tr><td>1991      </td><td>5351836347</td></tr>\n",
       "\t<tr><td>1992      </td><td>5433823608</td></tr>\n",
       "\t<tr><td>1993      </td><td>5516863641</td></tr>\n",
       "\t<tr><td>1994      </td><td>5598658151</td></tr>\n",
       "\t<tr><td>1995      </td><td>5681689325</td></tr>\n",
       "\t<tr><td>1996      </td><td>5762235749</td></tr>\n",
       "\t<tr><td>1997      </td><td>5842585301</td></tr>\n",
       "\t<tr><td>1998      </td><td>5921799957</td></tr>\n",
       "\t<tr><td>1999      </td><td>6001269553</td></tr>\n",
       "\t<tr><td>2000      </td><td>6078274622</td></tr>\n",
       "\t<tr><td>2001      </td><td>6155652495</td></tr>\n",
       "\t<tr><td>2002      </td><td>6232413711</td></tr>\n",
       "\t<tr><td>2003      </td><td>6309266583</td></tr>\n",
       "\t<tr><td>2004      </td><td>6385778679</td></tr>\n",
       "\t<tr><td>2005      </td><td>6462054420</td></tr>\n",
       "\t<tr><td>2006      </td><td>6538196688</td></tr>\n",
       "\t<tr><td>2007      </td><td>6614396907</td></tr>\n",
       "\t<tr><td>2008      </td><td>6692030277</td></tr>\n",
       "\t<tr><td>2009      </td><td>6775235741</td></tr>\n",
       "</tbody>\n",
       "</table>\n"
      ],
      "text/latex": [
       "\\begin{tabular}{r|ll}\n",
       " Year & Population\\\\\n",
       "\\hline\n",
       "\t 1960       & 3028654024\\\\\n",
       "\t 1961       & 3068356747\\\\\n",
       "\t 1962       & 3121963107\\\\\n",
       "\t 1963       & 3187471383\\\\\n",
       "\t 1964       & 3253112403\\\\\n",
       "\t 1965       & 3320396924\\\\\n",
       "\t 1966       & 3390712300\\\\\n",
       "\t 1967       & 3460521851\\\\\n",
       "\t 1968       & 3531547287\\\\\n",
       "\t 1969       & 3606994959\\\\\n",
       "\t 1970       & 3682870688\\\\\n",
       "\t 1971       & 3761750672\\\\\n",
       "\t 1972       & 3839147707\\\\\n",
       "\t 1973       & 3915742695\\\\\n",
       "\t 1974       & 3992806090\\\\\n",
       "\t 1975       & 4068032705\\\\\n",
       "\t 1976       & 4141383058\\\\\n",
       "\t 1977       & 4214499013\\\\\n",
       "\t 1978       & 4288485981\\\\\n",
       "\t 1979       & 4363754326\\\\\n",
       "\t 1980       & 4439638086\\\\\n",
       "\t 1981       & 4516734312\\\\\n",
       "\t 1982       & 4595890494\\\\\n",
       "\t 1983       & 4675178812\\\\\n",
       "\t 1984       & 4753877875\\\\\n",
       "\t 1985       & 4834206631\\\\\n",
       "\t 1986       & 4918126890\\\\\n",
       "\t 1987       & 5004006066\\\\\n",
       "\t 1988       & 5090899475\\\\\n",
       "\t 1989       & 5178059174\\\\\n",
       "\t 1990       & 5266783430\\\\\n",
       "\t 1991       & 5351836347\\\\\n",
       "\t 1992       & 5433823608\\\\\n",
       "\t 1993       & 5516863641\\\\\n",
       "\t 1994       & 5598658151\\\\\n",
       "\t 1995       & 5681689325\\\\\n",
       "\t 1996       & 5762235749\\\\\n",
       "\t 1997       & 5842585301\\\\\n",
       "\t 1998       & 5921799957\\\\\n",
       "\t 1999       & 6001269553\\\\\n",
       "\t 2000       & 6078274622\\\\\n",
       "\t 2001       & 6155652495\\\\\n",
       "\t 2002       & 6232413711\\\\\n",
       "\t 2003       & 6309266583\\\\\n",
       "\t 2004       & 6385778679\\\\\n",
       "\t 2005       & 6462054420\\\\\n",
       "\t 2006       & 6538196688\\\\\n",
       "\t 2007       & 6614396907\\\\\n",
       "\t 2008       & 6692030277\\\\\n",
       "\t 2009       & 6775235741\\\\\n",
       "\\end{tabular}\n"
      ],
      "text/markdown": [
       "\n",
       "| Year | Population |\n",
       "|---|---|\n",
       "| 1960       | 3028654024 |\n",
       "| 1961       | 3068356747 |\n",
       "| 1962       | 3121963107 |\n",
       "| 1963       | 3187471383 |\n",
       "| 1964       | 3253112403 |\n",
       "| 1965       | 3320396924 |\n",
       "| 1966       | 3390712300 |\n",
       "| 1967       | 3460521851 |\n",
       "| 1968       | 3531547287 |\n",
       "| 1969       | 3606994959 |\n",
       "| 1970       | 3682870688 |\n",
       "| 1971       | 3761750672 |\n",
       "| 1972       | 3839147707 |\n",
       "| 1973       | 3915742695 |\n",
       "| 1974       | 3992806090 |\n",
       "| 1975       | 4068032705 |\n",
       "| 1976       | 4141383058 |\n",
       "| 1977       | 4214499013 |\n",
       "| 1978       | 4288485981 |\n",
       "| 1979       | 4363754326 |\n",
       "| 1980       | 4439638086 |\n",
       "| 1981       | 4516734312 |\n",
       "| 1982       | 4595890494 |\n",
       "| 1983       | 4675178812 |\n",
       "| 1984       | 4753877875 |\n",
       "| 1985       | 4834206631 |\n",
       "| 1986       | 4918126890 |\n",
       "| 1987       | 5004006066 |\n",
       "| 1988       | 5090899475 |\n",
       "| 1989       | 5178059174 |\n",
       "| 1990       | 5266783430 |\n",
       "| 1991       | 5351836347 |\n",
       "| 1992       | 5433823608 |\n",
       "| 1993       | 5516863641 |\n",
       "| 1994       | 5598658151 |\n",
       "| 1995       | 5681689325 |\n",
       "| 1996       | 5762235749 |\n",
       "| 1997       | 5842585301 |\n",
       "| 1998       | 5921799957 |\n",
       "| 1999       | 6001269553 |\n",
       "| 2000       | 6078274622 |\n",
       "| 2001       | 6155652495 |\n",
       "| 2002       | 6232413711 |\n",
       "| 2003       | 6309266583 |\n",
       "| 2004       | 6385778679 |\n",
       "| 2005       | 6462054420 |\n",
       "| 2006       | 6538196688 |\n",
       "| 2007       | 6614396907 |\n",
       "| 2008       | 6692030277 |\n",
       "| 2009       | 6775235741 |\n",
       "\n"
      ],
      "text/plain": [
       "   Year Population\n",
       "1  1960 3028654024\n",
       "2  1961 3068356747\n",
       "3  1962 3121963107\n",
       "4  1963 3187471383\n",
       "5  1964 3253112403\n",
       "6  1965 3320396924\n",
       "7  1966 3390712300\n",
       "8  1967 3460521851\n",
       "9  1968 3531547287\n",
       "10 1969 3606994959\n",
       "11 1970 3682870688\n",
       "12 1971 3761750672\n",
       "13 1972 3839147707\n",
       "14 1973 3915742695\n",
       "15 1974 3992806090\n",
       "16 1975 4068032705\n",
       "17 1976 4141383058\n",
       "18 1977 4214499013\n",
       "19 1978 4288485981\n",
       "20 1979 4363754326\n",
       "21 1980 4439638086\n",
       "22 1981 4516734312\n",
       "23 1982 4595890494\n",
       "24 1983 4675178812\n",
       "25 1984 4753877875\n",
       "26 1985 4834206631\n",
       "27 1986 4918126890\n",
       "28 1987 5004006066\n",
       "29 1988 5090899475\n",
       "30 1989 5178059174\n",
       "31 1990 5266783430\n",
       "32 1991 5351836347\n",
       "33 1992 5433823608\n",
       "34 1993 5516863641\n",
       "35 1994 5598658151\n",
       "36 1995 5681689325\n",
       "37 1996 5762235749\n",
       "38 1997 5842585301\n",
       "39 1998 5921799957\n",
       "40 1999 6001269553\n",
       "41 2000 6078274622\n",
       "42 2001 6155652495\n",
       "43 2002 6232413711\n",
       "44 2003 6309266583\n",
       "45 2004 6385778679\n",
       "46 2005 6462054420\n",
       "47 2006 6538196688\n",
       "48 2007 6614396907\n",
       "49 2008 6692030277\n",
       "50 2009 6775235741"
      ]
     },
     "metadata": {},
     "output_type": "display_data"
    }
   ],
   "source": [
    "my_data"
   ]
  },
  {
   "cell_type": "code",
   "execution_count": 6,
   "metadata": {},
   "outputs": [
    {
     "data": {
      "image/png": "[encoded data removed]",
      "text/plain": [
       "plot without title"
      ]
     },
     "metadata": {},
     "output_type": "display_data"
    }
   ],
   "source": [
    "pop_data<-ggplot(my_data, aes(x=Year, y=Population))+geom_line()\n",
    "print(pop_data+ggtitle(\"Line Plot of Population Per Year\"))"
   ]
  },
  {
   "cell_type": "code",
   "execution_count": 8,
   "metadata": {},
   "outputs": [
    {
     "data": {
      "image/png": "[encoded data removed]",
      "text/plain": [
       "plot without title"
      ]
     },
     "metadata": {},
     "output_type": "display_data"
    }
   ],
   "source": [
    "pop_data<-ggplot(my_data, aes(x=Year, y=Population))+geom_step()\n",
    "print(pop_data+ggtitle(\"Step Plot of Population Per Year\"))"
   ]
  },
  {
   "cell_type": "code",
   "execution_count": null,
   "metadata": {},
   "outputs": [],
   "source": []
  }
 ],
 "metadata": {
  "kernelspec": {
   "display_name": "R",
   "language": "R",
   "name": "ir"
  },
  "language_info": {
   "codemirror_mode": "r",
   "file_extension": ".r",
   "mimetype": "text/x-r-source",
   "name": "R",
   "pygments_lexer": "r",
   "version": "3.6.1"
  }
 },
 "nbformat": 4,
 "nbformat_minor": 4
}
