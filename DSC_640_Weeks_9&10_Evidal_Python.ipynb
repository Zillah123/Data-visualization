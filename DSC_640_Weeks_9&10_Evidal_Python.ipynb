{
 "cells": [
  {
   "cell_type": "code",
   "execution_count": 1,
   "metadata": {},
   "outputs": [],
   "source": [
    "import pandas as pd\n",
    "import numpy as np\n",
    "import matplotlib.pyplot as plt"
   ]
  },
  {
   "cell_type": "code",
   "execution_count": 3,
   "metadata": {},
   "outputs": [
    {
     "data": {
      "text/html": [
       "<div>\n",
       "<style scoped>\n",
       "    .dataframe tbody tr th:only-of-type {\n",
       "        vertical-align: middle;\n",
       "    }\n",
       "\n",
       "    .dataframe tbody tr th {\n",
       "        vertical-align: top;\n",
       "    }\n",
       "\n",
       "    .dataframe thead th {\n",
       "        text-align: right;\n",
       "    }\n",
       "</style>\n",
       "<table border=\"1\" class=\"dataframe\">\n",
       "  <thead>\n",
       "    <tr style=\"text-align: right;\">\n",
       "      <th></th>\n",
       "      <th>Address</th>\n",
       "      <th>City</th>\n",
       "      <th>State</th>\n",
       "      <th>Zip Code</th>\n",
       "      <th>Latitude</th>\n",
       "      <th>Longitude</th>\n",
       "    </tr>\n",
       "  </thead>\n",
       "  <tbody>\n",
       "    <tr>\n",
       "      <th>0</th>\n",
       "      <td>1205 N. Memorial Parkway</td>\n",
       "      <td>Huntsville</td>\n",
       "      <td>Alabama</td>\n",
       "      <td>35801-5930</td>\n",
       "      <td>34.743095</td>\n",
       "      <td>-86.600955</td>\n",
       "    </tr>\n",
       "    <tr>\n",
       "      <th>1</th>\n",
       "      <td>3650 Galleria Circle</td>\n",
       "      <td>Hoover</td>\n",
       "      <td>Alabama</td>\n",
       "      <td>35244-2346</td>\n",
       "      <td>33.377649</td>\n",
       "      <td>-86.812420</td>\n",
       "    </tr>\n",
       "    <tr>\n",
       "      <th>2</th>\n",
       "      <td>8251 Eastchase Parkway</td>\n",
       "      <td>Montgomery</td>\n",
       "      <td>Alabama</td>\n",
       "      <td>36117</td>\n",
       "      <td>32.363889</td>\n",
       "      <td>-86.150884</td>\n",
       "    </tr>\n",
       "    <tr>\n",
       "      <th>3</th>\n",
       "      <td>5225 Commercial Boulevard</td>\n",
       "      <td>Juneau</td>\n",
       "      <td>Alaska</td>\n",
       "      <td>99801-7210</td>\n",
       "      <td>58.359200</td>\n",
       "      <td>-134.483000</td>\n",
       "    </tr>\n",
       "    <tr>\n",
       "      <th>4</th>\n",
       "      <td>330 West Dimond Blvd</td>\n",
       "      <td>Anchorage</td>\n",
       "      <td>Alaska</td>\n",
       "      <td>99515-1950</td>\n",
       "      <td>61.143266</td>\n",
       "      <td>-149.884217</td>\n",
       "    </tr>\n",
       "  </tbody>\n",
       "</table>\n",
       "</div>"
      ],
      "text/plain": [
       "                     Address        City    State    Zip Code   Latitude  \\\n",
       "0   1205 N. Memorial Parkway  Huntsville  Alabama  35801-5930  34.743095   \n",
       "1       3650 Galleria Circle      Hoover  Alabama  35244-2346  33.377649   \n",
       "2     8251 Eastchase Parkway  Montgomery  Alabama       36117  32.363889   \n",
       "3  5225 Commercial Boulevard      Juneau   Alaska  99801-7210  58.359200   \n",
       "4       330 West Dimond Blvd   Anchorage   Alaska  99515-1950  61.143266   \n",
       "\n",
       "    Longitude  \n",
       "0  -86.600955  \n",
       "1  -86.812420  \n",
       "2  -86.150884  \n",
       "3 -134.483000  \n",
       "4 -149.884217  "
      ]
     },
     "execution_count": 3,
     "metadata": {},
     "output_type": "execute_result"
    }
   ],
   "source": [
    "df = pd.read_csv(\"F:/DSC 640_Data/Week 9&10 Data/costcos-geocoded.csv\")\n",
    "df.head()"
   ]
  },
  {
   "cell_type": "code",
   "execution_count": 4,
   "metadata": {},
   "outputs": [
    {
     "name": "stdout",
     "output_type": "stream",
     "text": [
      "<class 'pandas.core.frame.DataFrame'>\n",
      "RangeIndex: 417 entries, 0 to 416\n",
      "Data columns (total 6 columns):\n",
      " #   Column     Non-Null Count  Dtype  \n",
      "---  ------     --------------  -----  \n",
      " 0   Address    417 non-null    object \n",
      " 1   City       417 non-null    object \n",
      " 2   State      417 non-null    object \n",
      " 3   Zip Code   417 non-null    object \n",
      " 4   Latitude   417 non-null    float64\n",
      " 5   Longitude  417 non-null    float64\n",
      "dtypes: float64(2), object(4)\n",
      "memory usage: 19.7+ KB\n"
     ]
    }
   ],
   "source": [
    "df.info()"
   ]
  },
  {
   "cell_type": "code",
   "execution_count": 5,
   "metadata": {},
   "outputs": [],
   "source": [
    "import seaborn as sns"
   ]
  },
  {
   "cell_type": "code",
   "execution_count": 11,
   "metadata": {},
   "outputs": [
    {
     "data": {
      "text/plain": [
       "<matplotlib.axes._subplots.AxesSubplot at 0x2eba9950788>"
      ]
     },
     "execution_count": 11,
     "metadata": {},
     "output_type": "execute_result"
    },
    {
     "data": {
      "image/png": "[encoded data removed]",
      "text/plain": [
       "<Figure size 1080x720 with 2 Axes>"
      ]
     },
     "metadata": {
      "needs_background": "light"
     },
     "output_type": "display_data"
    }
   ],
   "source": [
    "fig, ax = plt.subplots()\n",
    "fig.set_size_inches(15, 10)\n",
    "sns.heatmap(df.corr(),cmap='coolwarm',ax=ax,annot=True,linewidths=2)"
   ]
  },
  {
   "cell_type": "code",
   "execution_count": 12,
   "metadata": {},
   "outputs": [],
   "source": [
    "from matplotlib import cm"
   ]
  },
  {
   "cell_type": "code",
   "execution_count": 15,
   "metadata": {},
   "outputs": [
    {
     "data": {
      "image/png": "[encoded data removed]",
      "text/plain": [
       "<Figure size 432x288 with 1 Axes>"
      ]
     },
     "metadata": {
      "needs_background": "light"
     },
     "output_type": "display_data"
    }
   ],
   "source": [
    "fig = plt.figure()\n",
    "ax = fig.add_subplot(111)\n",
    "u = np.linspace(-1,1,100)\n",
    "x, y = np.meshgrid(u,u)\n",
    "z = x**2 + y**2\n",
    "ax.contourf(x,y,z)\n",
    "plt.show()"
   ]
  },
  {
   "cell_type": "code",
   "execution_count": 16,
   "metadata": {},
   "outputs": [],
   "source": [
    "from bokeh.io import output_notebook, show, output_file\n",
    "from bokeh.plotting import figure, ColumnDataSource\n",
    "from bokeh.tile_providers import get_provider, Vendors\n",
    "from bokeh.palettes import PRGn, RdYlGn\n",
    "from bokeh.transform import linear_cmap,factor_cmap\n",
    "from bokeh.layouts import row, column\n",
    "from bokeh.models import GeoJSONDataSource, LinearColorMapper, ColorBar, NumeralTickFormatter"
   ]
  },
  {
   "cell_type": "code",
   "execution_count": 17,
   "metadata": {},
   "outputs": [],
   "source": [
    "# Define function to switch from lat/long to mercator coordinates\n",
    "def x_coord(x, y):\n",
    "    \n",
    "    lat = x\n",
    "    lon = y\n",
    "    \n",
    "    r_major = 6378137.000\n",
    "    x = r_major * np.radians(lon)\n",
    "    scale = x/lon\n",
    "    y = 180.0/np.pi * np.log(np.tan(np.pi/4.0 + \n",
    "        lat * (np.pi/180.0)/2.0)) * scale\n",
    "    return (x, y)\n",
    "# Define coord as tuple (lat,long)\n",
    "df['coordinates'] = list(zip(df['Latitude'], df['Longitude']))\n",
    "# Obtain list of mercator coordinates\n",
    "mercators = [x_coord(x, y) for x, y in df['coordinates'] ]"
   ]
  },
  {
   "cell_type": "code",
   "execution_count": 18,
   "metadata": {},
   "outputs": [],
   "source": [
    "# Create mercator column in our df\n",
    "df['mercator'] = mercators\n",
    "# Split that column out into two separate columns - mercator_x and mercator_y\n",
    "df[['mercator_x', 'mercator_y']] = df['mercator'].apply(pd.Series)"
   ]
  },
  {
   "cell_type": "code",
   "execution_count": 20,
   "metadata": {},
   "outputs": [],
   "source": [
    "df['Price']=np.random.randint(1,100, size=len(df))"
   ]
  },
  {
   "cell_type": "code",
   "execution_count": 21,
   "metadata": {},
   "outputs": [
    {
     "data": {
      "text/html": [
       "<div>\n",
       "<style scoped>\n",
       "    .dataframe tbody tr th:only-of-type {\n",
       "        vertical-align: middle;\n",
       "    }\n",
       "\n",
       "    .dataframe tbody tr th {\n",
       "        vertical-align: top;\n",
       "    }\n",
       "\n",
       "    .dataframe thead th {\n",
       "        text-align: right;\n",
       "    }\n",
       "</style>\n",
       "<table border=\"1\" class=\"dataframe\">\n",
       "  <thead>\n",
       "    <tr style=\"text-align: right;\">\n",
       "      <th></th>\n",
       "      <th>Address</th>\n",
       "      <th>City</th>\n",
       "      <th>State</th>\n",
       "      <th>Zip Code</th>\n",
       "      <th>Latitude</th>\n",
       "      <th>Longitude</th>\n",
       "      <th>coordinates</th>\n",
       "      <th>mercator</th>\n",
       "      <th>mercator_x</th>\n",
       "      <th>mercator_y</th>\n",
       "      <th>Price</th>\n",
       "    </tr>\n",
       "  </thead>\n",
       "  <tbody>\n",
       "    <tr>\n",
       "      <th>0</th>\n",
       "      <td>1205 N. Memorial Parkway</td>\n",
       "      <td>Huntsville</td>\n",
       "      <td>Alabama</td>\n",
       "      <td>35801-5930</td>\n",
       "      <td>34.743095</td>\n",
       "      <td>-86.600955</td>\n",
       "      <td>(34.743094899999996, -86.6009553)</td>\n",
       "      <td>(-9640374.246207045, 4129023.341958216)</td>\n",
       "      <td>-9.640374e+06</td>\n",
       "      <td>4.129023e+06</td>\n",
       "      <td>37</td>\n",
       "    </tr>\n",
       "    <tr>\n",
       "      <th>1</th>\n",
       "      <td>3650 Galleria Circle</td>\n",
       "      <td>Hoover</td>\n",
       "      <td>Alabama</td>\n",
       "      <td>35244-2346</td>\n",
       "      <td>33.377649</td>\n",
       "      <td>-86.812420</td>\n",
       "      <td>(33.377649, -86.81241999999999)</td>\n",
       "      <td>(-9663914.388931798, 3945538.5044474667)</td>\n",
       "      <td>-9.663914e+06</td>\n",
       "      <td>3.945539e+06</td>\n",
       "      <td>24</td>\n",
       "    </tr>\n",
       "    <tr>\n",
       "      <th>2</th>\n",
       "      <td>8251 Eastchase Parkway</td>\n",
       "      <td>Montgomery</td>\n",
       "      <td>Alabama</td>\n",
       "      <td>36117</td>\n",
       "      <td>32.363889</td>\n",
       "      <td>-86.150884</td>\n",
       "      <td>(32.363889, -86.15088399999999)</td>\n",
       "      <td>(-9590272.538270378, 3811172.0691007767)</td>\n",
       "      <td>-9.590273e+06</td>\n",
       "      <td>3.811172e+06</td>\n",
       "      <td>15</td>\n",
       "    </tr>\n",
       "    <tr>\n",
       "      <th>3</th>\n",
       "      <td>5225 Commercial Boulevard</td>\n",
       "      <td>Juneau</td>\n",
       "      <td>Alaska</td>\n",
       "      <td>99801-7210</td>\n",
       "      <td>58.359200</td>\n",
       "      <td>-134.483000</td>\n",
       "      <td>(58.3592, -134.483)</td>\n",
       "      <td>(-14970579.08035181, 8043155.813635133)</td>\n",
       "      <td>-1.497058e+07</td>\n",
       "      <td>8.043156e+06</td>\n",
       "      <td>8</td>\n",
       "    </tr>\n",
       "    <tr>\n",
       "      <th>4</th>\n",
       "      <td>330 West Dimond Blvd</td>\n",
       "      <td>Anchorage</td>\n",
       "      <td>Alaska</td>\n",
       "      <td>99515-1950</td>\n",
       "      <td>61.143266</td>\n",
       "      <td>-149.884217</td>\n",
       "      <td>(61.143266000000004, -149.884217)</td>\n",
       "      <td>(-16685034.714388518, 8658793.6566211)</td>\n",
       "      <td>-1.668503e+07</td>\n",
       "      <td>8.658794e+06</td>\n",
       "      <td>60</td>\n",
       "    </tr>\n",
       "  </tbody>\n",
       "</table>\n",
       "</div>"
      ],
      "text/plain": [
       "                     Address        City    State    Zip Code   Latitude  \\\n",
       "0   1205 N. Memorial Parkway  Huntsville  Alabama  35801-5930  34.743095   \n",
       "1       3650 Galleria Circle      Hoover  Alabama  35244-2346  33.377649   \n",
       "2     8251 Eastchase Parkway  Montgomery  Alabama       36117  32.363889   \n",
       "3  5225 Commercial Boulevard      Juneau   Alaska  99801-7210  58.359200   \n",
       "4       330 West Dimond Blvd   Anchorage   Alaska  99515-1950  61.143266   \n",
       "\n",
       "    Longitude                        coordinates  \\\n",
       "0  -86.600955  (34.743094899999996, -86.6009553)   \n",
       "1  -86.812420    (33.377649, -86.81241999999999)   \n",
       "2  -86.150884    (32.363889, -86.15088399999999)   \n",
       "3 -134.483000                (58.3592, -134.483)   \n",
       "4 -149.884217  (61.143266000000004, -149.884217)   \n",
       "\n",
       "                                   mercator    mercator_x    mercator_y  Price  \n",
       "0   (-9640374.246207045, 4129023.341958216) -9.640374e+06  4.129023e+06     37  \n",
       "1  (-9663914.388931798, 3945538.5044474667) -9.663914e+06  3.945539e+06     24  \n",
       "2  (-9590272.538270378, 3811172.0691007767) -9.590273e+06  3.811172e+06     15  \n",
       "3   (-14970579.08035181, 8043155.813635133) -1.497058e+07  8.043156e+06      8  \n",
       "4    (-16685034.714388518, 8658793.6566211) -1.668503e+07  8.658794e+06     60  "
      ]
     },
     "execution_count": 21,
     "metadata": {},
     "output_type": "execute_result"
    }
   ],
   "source": [
    "# Examine our modified DataFrame\n",
    "df.head()"
   ]
  },
  {
   "cell_type": "code",
   "execution_count": 22,
   "metadata": {},
   "outputs": [],
   "source": [
    "# Select tile set to use\n",
    "chosentile = get_provider(Vendors.STAMEN_TONER)"
   ]
  },
  {
   "cell_type": "code",
   "execution_count": 23,
   "metadata": {},
   "outputs": [],
   "source": [
    "# Choose palette\n",
    "palette = PRGn[11]"
   ]
  },
  {
   "cell_type": "code",
   "execution_count": 24,
   "metadata": {},
   "outputs": [],
   "source": [
    "# Tell Bokeh to use df as the source of the data\n",
    "source = ColumnDataSource(data=df)"
   ]
  },
  {
   "cell_type": "code",
   "execution_count": 25,
   "metadata": {},
   "outputs": [],
   "source": [
    "# Define color mapper - which column will define the colour of the data points\n",
    "color_mapper = linear_cmap(field_name = 'Price', palette = palette, low = df['Price'].min(), high = df['Price'].max())"
   ]
  },
  {
   "cell_type": "code",
   "execution_count": 26,
   "metadata": {},
   "outputs": [],
   "source": [
    "# Set tooltips - these appear when we hover over a data point in our map, very nifty and very useful\n",
    "tooltips = [(\"Price\",\"@Price\"), (\"Region\",\"@State\")]"
   ]
  },
  {
   "cell_type": "code",
   "execution_count": 27,
   "metadata": {},
   "outputs": [],
   "source": [
    "# Create figure\n",
    "p = figure(title = 'Shoe Prices by region in the United States', x_axis_type=\"mercator\", y_axis_type=\"mercator\", x_axis_label = 'Longitude', y_axis_label = 'Latitude', tooltips = tooltips)"
   ]
  },
  {
   "cell_type": "code",
   "execution_count": 28,
   "metadata": {},
   "outputs": [
    {
     "data": {
      "text/html": [
       "<div style=\"display: table;\"><div style=\"display: table-row;\"><div style=\"display: table-cell;\"><b title=\"bokeh.models.renderers.TileRenderer\">TileRenderer</b>(</div><div style=\"display: table-cell;\">id&nbsp;=&nbsp;'1048', <span id=\"1051\" style=\"cursor: pointer;\">&hellip;)</span></div></div><div class=\"1050\" style=\"display: none;\"><div style=\"display: table-cell;\"></div><div style=\"display: table-cell;\">alpha&nbsp;=&nbsp;1.0,</div></div><div class=\"1050\" style=\"display: none;\"><div style=\"display: table-cell;\"></div><div style=\"display: table-cell;\">js_event_callbacks&nbsp;=&nbsp;{},</div></div><div class=\"1050\" style=\"display: none;\"><div style=\"display: table-cell;\"></div><div style=\"display: table-cell;\">js_property_callbacks&nbsp;=&nbsp;{},</div></div><div class=\"1050\" style=\"display: none;\"><div style=\"display: table-cell;\"></div><div style=\"display: table-cell;\">level&nbsp;=&nbsp;'glyph',</div></div><div class=\"1050\" style=\"display: none;\"><div style=\"display: table-cell;\"></div><div style=\"display: table-cell;\">name&nbsp;=&nbsp;None,</div></div><div class=\"1050\" style=\"display: none;\"><div style=\"display: table-cell;\"></div><div style=\"display: table-cell;\">render_parents&nbsp;=&nbsp;True,</div></div><div class=\"1050\" style=\"display: none;\"><div style=\"display: table-cell;\"></div><div style=\"display: table-cell;\">smoothing&nbsp;=&nbsp;True,</div></div><div class=\"1050\" style=\"display: none;\"><div style=\"display: table-cell;\"></div><div style=\"display: table-cell;\">subscribed_events&nbsp;=&nbsp;[],</div></div><div class=\"1050\" style=\"display: none;\"><div style=\"display: table-cell;\"></div><div style=\"display: table-cell;\">tags&nbsp;=&nbsp;[],</div></div><div class=\"1050\" style=\"display: none;\"><div style=\"display: table-cell;\"></div><div style=\"display: table-cell;\">tile_source&nbsp;=&nbsp;WMTSTileSource(id='1001', ...),</div></div><div class=\"1050\" style=\"display: none;\"><div style=\"display: table-cell;\"></div><div style=\"display: table-cell;\">visible&nbsp;=&nbsp;True,</div></div><div class=\"1050\" style=\"display: none;\"><div style=\"display: table-cell;\"></div><div style=\"display: table-cell;\">x_range_name&nbsp;=&nbsp;'default',</div></div><div class=\"1050\" style=\"display: none;\"><div style=\"display: table-cell;\"></div><div style=\"display: table-cell;\">y_range_name&nbsp;=&nbsp;'default')</div></div></div>\n",
       "<script>\n",
       "(function() {\n",
       "  var expanded = false;\n",
       "  var ellipsis = document.getElementById(\"1051\");\n",
       "  ellipsis.addEventListener(\"click\", function() {\n",
       "    var rows = document.getElementsByClassName(\"1050\");\n",
       "    for (var i = 0; i < rows.length; i++) {\n",
       "      var el = rows[i];\n",
       "      el.style.display = expanded ? \"none\" : \"table-row\";\n",
       "    }\n",
       "    ellipsis.innerHTML = expanded ? \"&hellip;)\" : \"&lsaquo;&lsaquo;&lsaquo;\";\n",
       "    expanded = !expanded;\n",
       "  });\n",
       "})();\n",
       "</script>\n"
      ],
      "text/plain": [
       "TileRenderer(id='1048', ...)"
      ]
     },
     "execution_count": 28,
     "metadata": {},
     "output_type": "execute_result"
    }
   ],
   "source": [
    "# Add map tile\n",
    "p.add_tile(chosentile)"
   ]
  },
  {
   "cell_type": "code",
   "execution_count": 29,
   "metadata": {},
   "outputs": [
    {
     "data": {
      "text/html": [
       "<div style=\"display: table;\"><div style=\"display: table-row;\"><div style=\"display: table-cell;\"><b title=\"bokeh.models.renderers.GlyphRenderer\">GlyphRenderer</b>(</div><div style=\"display: table-cell;\">id&nbsp;=&nbsp;'1055', <span id=\"1058\" style=\"cursor: pointer;\">&hellip;)</span></div></div><div class=\"1057\" style=\"display: none;\"><div style=\"display: table-cell;\"></div><div style=\"display: table-cell;\">data_source&nbsp;=&nbsp;ColumnDataSource(id='1002', ...),</div></div><div class=\"1057\" style=\"display: none;\"><div style=\"display: table-cell;\"></div><div style=\"display: table-cell;\">glyph&nbsp;=&nbsp;Circle(id='1053', ...),</div></div><div class=\"1057\" style=\"display: none;\"><div style=\"display: table-cell;\"></div><div style=\"display: table-cell;\">hover_glyph&nbsp;=&nbsp;None,</div></div><div class=\"1057\" style=\"display: none;\"><div style=\"display: table-cell;\"></div><div style=\"display: table-cell;\">js_event_callbacks&nbsp;=&nbsp;{},</div></div><div class=\"1057\" style=\"display: none;\"><div style=\"display: table-cell;\"></div><div style=\"display: table-cell;\">js_property_callbacks&nbsp;=&nbsp;{},</div></div><div class=\"1057\" style=\"display: none;\"><div style=\"display: table-cell;\"></div><div style=\"display: table-cell;\">level&nbsp;=&nbsp;'glyph',</div></div><div class=\"1057\" style=\"display: none;\"><div style=\"display: table-cell;\"></div><div style=\"display: table-cell;\">muted&nbsp;=&nbsp;False,</div></div><div class=\"1057\" style=\"display: none;\"><div style=\"display: table-cell;\"></div><div style=\"display: table-cell;\">muted_glyph&nbsp;=&nbsp;None,</div></div><div class=\"1057\" style=\"display: none;\"><div style=\"display: table-cell;\"></div><div style=\"display: table-cell;\">name&nbsp;=&nbsp;None,</div></div><div class=\"1057\" style=\"display: none;\"><div style=\"display: table-cell;\"></div><div style=\"display: table-cell;\">nonselection_glyph&nbsp;=&nbsp;Circle(id='1054', ...),</div></div><div class=\"1057\" style=\"display: none;\"><div style=\"display: table-cell;\"></div><div style=\"display: table-cell;\">selection_glyph&nbsp;=&nbsp;None,</div></div><div class=\"1057\" style=\"display: none;\"><div style=\"display: table-cell;\"></div><div style=\"display: table-cell;\">subscribed_events&nbsp;=&nbsp;[],</div></div><div class=\"1057\" style=\"display: none;\"><div style=\"display: table-cell;\"></div><div style=\"display: table-cell;\">tags&nbsp;=&nbsp;[],</div></div><div class=\"1057\" style=\"display: none;\"><div style=\"display: table-cell;\"></div><div style=\"display: table-cell;\">view&nbsp;=&nbsp;CDSView(id='1056', ...),</div></div><div class=\"1057\" style=\"display: none;\"><div style=\"display: table-cell;\"></div><div style=\"display: table-cell;\">visible&nbsp;=&nbsp;True,</div></div><div class=\"1057\" style=\"display: none;\"><div style=\"display: table-cell;\"></div><div style=\"display: table-cell;\">x_range_name&nbsp;=&nbsp;'default',</div></div><div class=\"1057\" style=\"display: none;\"><div style=\"display: table-cell;\"></div><div style=\"display: table-cell;\">y_range_name&nbsp;=&nbsp;'default')</div></div></div>\n",
       "<script>\n",
       "(function() {\n",
       "  var expanded = false;\n",
       "  var ellipsis = document.getElementById(\"1058\");\n",
       "  ellipsis.addEventListener(\"click\", function() {\n",
       "    var rows = document.getElementsByClassName(\"1057\");\n",
       "    for (var i = 0; i < rows.length; i++) {\n",
       "      var el = rows[i];\n",
       "      el.style.display = expanded ? \"none\" : \"table-row\";\n",
       "    }\n",
       "    ellipsis.innerHTML = expanded ? \"&hellip;)\" : \"&lsaquo;&lsaquo;&lsaquo;\";\n",
       "    expanded = !expanded;\n",
       "  });\n",
       "})();\n",
       "</script>\n"
      ],
      "text/plain": [
       "GlyphRenderer(id='1055', ...)"
      ]
     },
     "execution_count": 29,
     "metadata": {},
     "output_type": "execute_result"
    }
   ],
   "source": [
    "# Add points using mercator coordinates\n",
    "p.circle(x = 'mercator_x', y = 'mercator_y', color = color_mapper, source=source, size=30, fill_alpha = 0.7)"
   ]
  },
  {
   "cell_type": "code",
   "execution_count": 30,
   "metadata": {},
   "outputs": [],
   "source": [
    "#Defines color bar\n",
    "color_bar = ColorBar(color_mapper=color_mapper['transform'], \n",
    "                     formatter = NumeralTickFormatter(format='0.0[0000]'), \n",
    "                     label_standoff = 13, width=8, location=(0,0))\n",
    "# Set color_bar location\n",
    "p.add_layout(color_bar, 'right')"
   ]
  },
  {
   "cell_type": "code",
   "execution_count": 31,
   "metadata": {},
   "outputs": [
    {
     "data": {
      "text/html": [
       "\n",
       "    <div class=\"bk-root\">\n",
       "        <a href=\"https://bokeh.org\" target=\"_blank\" class=\"bk-logo bk-logo-small bk-logo-notebook\"></a>\n",
       "        <span id=\"1062\">Loading BokehJS ...</span>\n",
       "    </div>"
      ]
     },
     "metadata": {},
     "output_type": "display_data"
    },
    {
     "data": {
      "application/javascript": [
       "\n",
       "(function(root) {\n",
       "  function now() {\n",
       "    return new Date();\n",
       "  }\n",
       "\n",
       "  var force = true;\n",
       "\n",
       "  if (typeof root._bokeh_onload_callbacks === \"undefined\" || force === true) {\n",
       "    root._bokeh_onload_callbacks = [];\n",
       "    root._bokeh_is_loading = undefined;\n",
       "  }\n",
       "\n",
       "  var JS_MIME_TYPE = 'application/javascript';\n",
       "  var HTML_MIME_TYPE = 'text/html';\n",
       "  var EXEC_MIME_TYPE = 'application/vnd.bokehjs_exec.v0+json';\n",
       "  var CLASS_NAME = 'output_bokeh rendered_html';\n",
       "\n",
       "  /**\n",
       "   * Render data to the DOM node\n",
       "   */\n",
       "  function render(props, node) {\n",
       "    var script = document.createElement(\"script\");\n",
       "    node.appendChild(script);\n",
       "  }\n",
       "\n",
       "  /**\n",
       "   * Handle when an output is cleared or removed\n",
       "   */\n",
       "  function handleClearOutput(event, handle) {\n",
       "    var cell = handle.cell;\n",
       "\n",
       "    var id = cell.output_area._bokeh_element_id;\n",
       "    var server_id = cell.output_area._bokeh_server_id;\n",
       "    // Clean up Bokeh references\n",
       "    if (id != null && id in Bokeh.index) {\n",
       "      Bokeh.index[id].model.document.clear();\n",
       "      delete Bokeh.index[id];\n",
       "    }\n",
       "\n",
       "    if (server_id !== undefined) {\n",
       "      // Clean up Bokeh references\n",
       "      var cmd = \"from bokeh.io.state import curstate; print(curstate().uuid_to_server['\" + server_id + \"'].get_sessions()[0].document.roots[0]._id)\";\n",
       "      cell.notebook.kernel.execute(cmd, {\n",
       "        iopub: {\n",
       "          output: function(msg) {\n",
       "            var id = msg.content.text.trim();\n",
       "            if (id in Bokeh.index) {\n",
       "              Bokeh.index[id].model.document.clear();\n",
       "              delete Bokeh.index[id];\n",
       "            }\n",
       "          }\n",
       "        }\n",
       "      });\n",
       "      // Destroy server and session\n",
       "      var cmd = \"import bokeh.io.notebook as ion; ion.destroy_server('\" + server_id + \"')\";\n",
       "      cell.notebook.kernel.execute(cmd);\n",
       "    }\n",
       "  }\n",
       "\n",
       "  /**\n",
       "   * Handle when a new output is added\n",
       "   */\n",
       "  function handleAddOutput(event, handle) {\n",
       "    var output_area = handle.output_area;\n",
       "    var output = handle.output;\n",
       "\n",
       "    // limit handleAddOutput to display_data with EXEC_MIME_TYPE content only\n",
       "    if ((output.output_type != \"display_data\") || (!output.data.hasOwnProperty(EXEC_MIME_TYPE))) {\n",
       "      return\n",
       "    }\n",
       "\n",
       "    var toinsert = output_area.element.find(\".\" + CLASS_NAME.split(' ')[0]);\n",
       "\n",
       "    if (output.metadata[EXEC_MIME_TYPE][\"id\"] !== undefined) {\n",
       "      toinsert[toinsert.length - 1].firstChild.textContent = output.data[JS_MIME_TYPE];\n",
       "      // store reference to embed id on output_area\n",
       "      output_area._bokeh_element_id = output.metadata[EXEC_MIME_TYPE][\"id\"];\n",
       "    }\n",
       "    if (output.metadata[EXEC_MIME_TYPE][\"server_id\"] !== undefined) {\n",
       "      var bk_div = document.createElement(\"div\");\n",
       "      bk_div.innerHTML = output.data[HTML_MIME_TYPE];\n",
       "      var script_attrs = bk_div.children[0].attributes;\n",
       "      for (var i = 0; i < script_attrs.length; i++) {\n",
       "        toinsert[toinsert.length - 1].firstChild.setAttribute(script_attrs[i].name, script_attrs[i].value);\n",
       "      }\n",
       "      // store reference to server id on output_area\n",
       "      output_area._bokeh_server_id = output.metadata[EXEC_MIME_TYPE][\"server_id\"];\n",
       "    }\n",
       "  }\n",
       "\n",
       "  function register_renderer(events, OutputArea) {\n",
       "\n",
       "    function append_mime(data, metadata, element) {\n",
       "      // create a DOM node to render to\n",
       "      var toinsert = this.create_output_subarea(\n",
       "        metadata,\n",
       "        CLASS_NAME,\n",
       "        EXEC_MIME_TYPE\n",
       "      );\n",
       "      this.keyboard_manager.register_events(toinsert);\n",
       "      // Render to node\n",
       "      var props = {data: data, metadata: metadata[EXEC_MIME_TYPE]};\n",
       "      render(props, toinsert[toinsert.length - 1]);\n",
       "      element.append(toinsert);\n",
       "      return toinsert\n",
       "    }\n",
       "\n",
       "    /* Handle when an output is cleared or removed */\n",
       "    events.on('clear_output.CodeCell', handleClearOutput);\n",
       "    events.on('delete.Cell', handleClearOutput);\n",
       "\n",
       "    /* Handle when a new output is added */\n",
       "    events.on('output_added.OutputArea', handleAddOutput);\n",
       "\n",
       "    /**\n",
       "     * Register the mime type and append_mime function with output_area\n",
       "     */\n",
       "    OutputArea.prototype.register_mime_type(EXEC_MIME_TYPE, append_mime, {\n",
       "      /* Is output safe? */\n",
       "      safe: true,\n",
       "      /* Index of renderer in `output_area.display_order` */\n",
       "      index: 0\n",
       "    });\n",
       "  }\n",
       "\n",
       "  // register the mime type if in Jupyter Notebook environment and previously unregistered\n",
       "  if (root.Jupyter !== undefined) {\n",
       "    var events = require('base/js/events');\n",
       "    var OutputArea = require('notebook/js/outputarea').OutputArea;\n",
       "\n",
       "    if (OutputArea.prototype.mime_types().indexOf(EXEC_MIME_TYPE) == -1) {\n",
       "      register_renderer(events, OutputArea);\n",
       "    }\n",
       "  }\n",
       "\n",
       "  \n",
       "  if (typeof (root._bokeh_timeout) === \"undefined\" || force === true) {\n",
       "    root._bokeh_timeout = Date.now() + 5000;\n",
       "    root._bokeh_failed_load = false;\n",
       "  }\n",
       "\n",
       "  var NB_LOAD_WARNING = {'data': {'text/html':\n",
       "     \"<div style='background-color: #fdd'>\\n\"+\n",
       "     \"<p>\\n\"+\n",
       "     \"BokehJS does not appear to have successfully loaded. If loading BokehJS from CDN, this \\n\"+\n",
       "     \"may be due to a slow or bad network connection. Possible fixes:\\n\"+\n",
       "     \"</p>\\n\"+\n",
       "     \"<ul>\\n\"+\n",
       "     \"<li>re-rerun `output_notebook()` to attempt to load from CDN again, or</li>\\n\"+\n",
       "     \"<li>use INLINE resources instead, as so:</li>\\n\"+\n",
       "     \"</ul>\\n\"+\n",
       "     \"<code>\\n\"+\n",
       "     \"from bokeh.resources import INLINE\\n\"+\n",
       "     \"output_notebook(resources=INLINE)\\n\"+\n",
       "     \"</code>\\n\"+\n",
       "     \"</div>\"}};\n",
       "\n",
       "  function display_loaded() {\n",
       "    var el = document.getElementById(\"1062\");\n",
       "    if (el != null) {\n",
       "      el.textContent = \"BokehJS is loading...\";\n",
       "    }\n",
       "    if (root.Bokeh !== undefined) {\n",
       "      if (el != null) {\n",
       "        el.textContent = \"BokehJS \" + root.Bokeh.version + \" successfully loaded.\";\n",
       "      }\n",
       "    } else if (Date.now() < root._bokeh_timeout) {\n",
       "      setTimeout(display_loaded, 100)\n",
       "    }\n",
       "  }\n",
       "\n",
       "\n",
       "  function run_callbacks() {\n",
       "    try {\n",
       "      root._bokeh_onload_callbacks.forEach(function(callback) {\n",
       "        if (callback != null)\n",
       "          callback();\n",
       "      });\n",
       "    } finally {\n",
       "      delete root._bokeh_onload_callbacks\n",
       "    }\n",
       "    console.debug(\"Bokeh: all callbacks have finished\");\n",
       "  }\n",
       "\n",
       "  function load_libs(css_urls, js_urls, callback) {\n",
       "    if (css_urls == null) css_urls = [];\n",
       "    if (js_urls == null) js_urls = [];\n",
       "\n",
       "    root._bokeh_onload_callbacks.push(callback);\n",
       "    if (root._bokeh_is_loading > 0) {\n",
       "      console.debug(\"Bokeh: BokehJS is being loaded, scheduling callback at\", now());\n",
       "      return null;\n",
       "    }\n",
       "    if (js_urls == null || js_urls.length === 0) {\n",
       "      run_callbacks();\n",
       "      return null;\n",
       "    }\n",
       "    console.debug(\"Bokeh: BokehJS not loaded, scheduling load and callback at\", now());\n",
       "    root._bokeh_is_loading = css_urls.length + js_urls.length;\n",
       "\n",
       "    function on_load() {\n",
       "      root._bokeh_is_loading--;\n",
       "      if (root._bokeh_is_loading === 0) {\n",
       "        console.debug(\"Bokeh: all BokehJS libraries/stylesheets loaded\");\n",
       "        run_callbacks()\n",
       "      }\n",
       "    }\n",
       "\n",
       "    function on_error() {\n",
       "      console.error(\"failed to load \" + url);\n",
       "    }\n",
       "\n",
       "    for (var i = 0; i < css_urls.length; i++) {\n",
       "      var url = css_urls[i];\n",
       "      const element = document.createElement(\"link\");\n",
       "      element.onload = on_load;\n",
       "      element.onerror = on_error;\n",
       "      element.rel = \"stylesheet\";\n",
       "      element.type = \"text/css\";\n",
       "      element.href = url;\n",
       "      console.debug(\"Bokeh: injecting link tag for BokehJS stylesheet: \", url);\n",
       "      document.body.appendChild(element);\n",
       "    }\n",
       "\n",
       "    for (var i = 0; i < js_urls.length; i++) {\n",
       "      var url = js_urls[i];\n",
       "      var element = document.createElement('script');\n",
       "      element.onload = on_load;\n",
       "      element.onerror = on_error;\n",
       "      element.async = false;\n",
       "      element.src = url;\n",
       "      console.debug(\"Bokeh: injecting script tag for BokehJS library: \", url);\n",
       "      document.head.appendChild(element);\n",
       "    }\n",
       "  };var element = document.getElementById(\"1062\");\n",
       "  if (element == null) {\n",
       "    console.error(\"Bokeh: ERROR: autoload.js configured with elementid '1062' but no matching script tag was found. \")\n",
       "    return false;\n",
       "  }\n",
       "\n",
       "  function inject_raw_css(css) {\n",
       "    const element = document.createElement(\"style\");\n",
       "    element.appendChild(document.createTextNode(css));\n",
       "    document.body.appendChild(element);\n",
       "  }\n",
       "\n",
       "  \n",
       "  var js_urls = [\"https://cdn.pydata.org/bokeh/release/bokeh-1.4.0.min.js\", \"https://cdn.pydata.org/bokeh/release/bokeh-widgets-1.4.0.min.js\", \"https://cdn.pydata.org/bokeh/release/bokeh-tables-1.4.0.min.js\", \"https://cdn.pydata.org/bokeh/release/bokeh-gl-1.4.0.min.js\"];\n",
       "  var css_urls = [];\n",
       "  \n",
       "\n",
       "  var inline_js = [\n",
       "    function(Bokeh) {\n",
       "      Bokeh.set_log_level(\"info\");\n",
       "    },\n",
       "    function(Bokeh) {\n",
       "    \n",
       "    \n",
       "    }\n",
       "  ];\n",
       "\n",
       "  function run_inline_js() {\n",
       "    \n",
       "    if (root.Bokeh !== undefined || force === true) {\n",
       "      \n",
       "    for (var i = 0; i < inline_js.length; i++) {\n",
       "      inline_js[i].call(root, root.Bokeh);\n",
       "    }\n",
       "    if (force === true) {\n",
       "        display_loaded();\n",
       "      }} else if (Date.now() < root._bokeh_timeout) {\n",
       "      setTimeout(run_inline_js, 100);\n",
       "    } else if (!root._bokeh_failed_load) {\n",
       "      console.log(\"Bokeh: BokehJS failed to load within specified timeout.\");\n",
       "      root._bokeh_failed_load = true;\n",
       "    } else if (force !== true) {\n",
       "      var cell = $(document.getElementById(\"1062\")).parents('.cell').data().cell;\n",
       "      cell.output_area.append_execute_result(NB_LOAD_WARNING)\n",
       "    }\n",
       "\n",
       "  }\n",
       "\n",
       "  if (root._bokeh_is_loading === 0) {\n",
       "    console.debug(\"Bokeh: BokehJS loaded, going straight to plotting\");\n",
       "    run_inline_js();\n",
       "  } else {\n",
       "    load_libs(css_urls, js_urls, function() {\n",
       "      console.debug(\"Bokeh: BokehJS plotting callback run at\", now());\n",
       "      run_inline_js();\n",
       "    });\n",
       "  }\n",
       "}(window));"
      ],
      "application/vnd.bokehjs_load.v0+json": "\n(function(root) {\n  function now() {\n    return new Date();\n  }\n\n  var force = true;\n\n  if (typeof root._bokeh_onload_callbacks === \"undefined\" || force === true) {\n    root._bokeh_onload_callbacks = [];\n    root._bokeh_is_loading = undefined;\n  }\n\n  \n\n  \n  if (typeof (root._bokeh_timeout) === \"undefined\" || force === true) {\n    root._bokeh_timeout = Date.now() + 5000;\n    root._bokeh_failed_load = false;\n  }\n\n  var NB_LOAD_WARNING = {'data': {'text/html':\n     \"<div style='background-color: #fdd'>\\n\"+\n     \"<p>\\n\"+\n     \"BokehJS does not appear to have successfully loaded. If loading BokehJS from CDN, this \\n\"+\n     \"may be due to a slow or bad network connection. Possible fixes:\\n\"+\n     \"</p>\\n\"+\n     \"<ul>\\n\"+\n     \"<li>re-rerun `output_notebook()` to attempt to load from CDN again, or</li>\\n\"+\n     \"<li>use INLINE resources instead, as so:</li>\\n\"+\n     \"</ul>\\n\"+\n     \"<code>\\n\"+\n     \"from bokeh.resources import INLINE\\n\"+\n     \"output_notebook(resources=INLINE)\\n\"+\n     \"</code>\\n\"+\n     \"</div>\"}};\n\n  function display_loaded() {\n    var el = document.getElementById(\"1062\");\n    if (el != null) {\n      el.textContent = \"BokehJS is loading...\";\n    }\n    if (root.Bokeh !== undefined) {\n      if (el != null) {\n        el.textContent = \"BokehJS \" + root.Bokeh.version + \" successfully loaded.\";\n      }\n    } else if (Date.now() < root._bokeh_timeout) {\n      setTimeout(display_loaded, 100)\n    }\n  }\n\n\n  function run_callbacks() {\n    try {\n      root._bokeh_onload_callbacks.forEach(function(callback) {\n        if (callback != null)\n          callback();\n      });\n    } finally {\n      delete root._bokeh_onload_callbacks\n    }\n    console.debug(\"Bokeh: all callbacks have finished\");\n  }\n\n  function load_libs(css_urls, js_urls, callback) {\n    if (css_urls == null) css_urls = [];\n    if (js_urls == null) js_urls = [];\n\n    root._bokeh_onload_callbacks.push(callback);\n    if (root._bokeh_is_loading > 0) {\n      console.debug(\"Bokeh: BokehJS is being loaded, scheduling callback at\", now());\n      return null;\n    }\n    if (js_urls == null || js_urls.length === 0) {\n      run_callbacks();\n      return null;\n    }\n    console.debug(\"Bokeh: BokehJS not loaded, scheduling load and callback at\", now());\n    root._bokeh_is_loading = css_urls.length + js_urls.length;\n\n    function on_load() {\n      root._bokeh_is_loading--;\n      if (root._bokeh_is_loading === 0) {\n        console.debug(\"Bokeh: all BokehJS libraries/stylesheets loaded\");\n        run_callbacks()\n      }\n    }\n\n    function on_error() {\n      console.error(\"failed to load \" + url);\n    }\n\n    for (var i = 0; i < css_urls.length; i++) {\n      var url = css_urls[i];\n      const element = document.createElement(\"link\");\n      element.onload = on_load;\n      element.onerror = on_error;\n      element.rel = \"stylesheet\";\n      element.type = \"text/css\";\n      element.href = url;\n      console.debug(\"Bokeh: injecting link tag for BokehJS stylesheet: \", url);\n      document.body.appendChild(element);\n    }\n\n    for (var i = 0; i < js_urls.length; i++) {\n      var url = js_urls[i];\n      var element = document.createElement('script');\n      element.onload = on_load;\n      element.onerror = on_error;\n      element.async = false;\n      element.src = url;\n      console.debug(\"Bokeh: injecting script tag for BokehJS library: \", url);\n      document.head.appendChild(element);\n    }\n  };var element = document.getElementById(\"1062\");\n  if (element == null) {\n    console.error(\"Bokeh: ERROR: autoload.js configured with elementid '1062' but no matching script tag was found. \")\n    return false;\n  }\n\n  function inject_raw_css(css) {\n    const element = document.createElement(\"style\");\n    element.appendChild(document.createTextNode(css));\n    document.body.appendChild(element);\n  }\n\n  \n  var js_urls = [\"https://cdn.pydata.org/bokeh/release/bokeh-1.4.0.min.js\", \"https://cdn.pydata.org/bokeh/release/bokeh-widgets-1.4.0.min.js\", \"https://cdn.pydata.org/bokeh/release/bokeh-tables-1.4.0.min.js\", \"https://cdn.pydata.org/bokeh/release/bokeh-gl-1.4.0.min.js\"];\n  var css_urls = [];\n  \n\n  var inline_js = [\n    function(Bokeh) {\n      Bokeh.set_log_level(\"info\");\n    },\n    function(Bokeh) {\n    \n    \n    }\n  ];\n\n  function run_inline_js() {\n    \n    if (root.Bokeh !== undefined || force === true) {\n      \n    for (var i = 0; i < inline_js.length; i++) {\n      inline_js[i].call(root, root.Bokeh);\n    }\n    if (force === true) {\n        display_loaded();\n      }} else if (Date.now() < root._bokeh_timeout) {\n      setTimeout(run_inline_js, 100);\n    } else if (!root._bokeh_failed_load) {\n      console.log(\"Bokeh: BokehJS failed to load within specified timeout.\");\n      root._bokeh_failed_load = true;\n    } else if (force !== true) {\n      var cell = $(document.getElementById(\"1062\")).parents('.cell').data().cell;\n      cell.output_area.append_execute_result(NB_LOAD_WARNING)\n    }\n\n  }\n\n  if (root._bokeh_is_loading === 0) {\n    console.debug(\"Bokeh: BokehJS loaded, going straight to plotting\");\n    run_inline_js();\n  } else {\n    load_libs(css_urls, js_urls, function() {\n      console.debug(\"Bokeh: BokehJS plotting callback run at\", now());\n      run_inline_js();\n    });\n  }\n}(window));"
     },
     "metadata": {},
     "output_type": "display_data"
    }
   ],
   "source": [
    "# Display in notebook\n",
    "output_notebook()\n",
    "# Save as HTML\n",
    "output_file('avocado.html', title='Avocado Prices by region in the United States')"
   ]
  },
  {
   "cell_type": "code",
   "execution_count": 32,
   "metadata": {},
   "outputs": [
    {
     "data": {
      "text/html": [
       "\n",
       "\n",
       "\n",
       "\n",
       "\n",
       "\n",
       "  <div class=\"bk-root\" id=\"cbebb742-9043-4715-9f6e-fae6ec47de3a\" data-root-id=\"1004\"></div>\n"
      ]
     },
     "metadata": {},
     "output_type": "display_data"
    },
    {
     "data": {
      "application/javascript": [
       "(function(root) {\n",
       "  function embed_document(root) {\n",
       "    \n",
       "  var docs_json = {\"dcbe83c0-a401-48b5-8696-7e8963b06cc4\":{\"roots\":{\"references\":[{\"attributes\":{\"below\":[{\"id\":\"1015\",\"type\":\"MercatorAxis\"}],\"center\":[{\"id\":\"1023\",\"type\":\"Grid\"},{\"id\":\"1032\",\"type\":\"Grid\"}],\"left\":[{\"id\":\"1024\",\"type\":\"MercatorAxis\"}],\"renderers\":[{\"id\":\"1048\",\"type\":\"TileRenderer\"},{\"id\":\"1055\",\"type\":\"GlyphRenderer\"}],\"right\":[{\"id\":\"1060\",\"type\":\"ColorBar\"}],\"title\":{\"id\":\"1005\",\"type\":\"Title\"},\"toolbar\":{\"id\":\"1040\",\"type\":\"Toolbar\"},\"x_range\":{\"id\":\"1007\",\"type\":\"DataRange1d\"},\"x_scale\":{\"id\":\"1011\",\"type\":\"LinearScale\"},\"y_range\":{\"id\":\"1009\",\"type\":\"DataRange1d\"},\"y_scale\":{\"id\":\"1013\",\"type\":\"LinearScale\"}},\"id\":\"1004\",\"subtype\":\"Figure\",\"type\":\"Plot\"},{\"attributes\":{\"bottom_units\":\"screen\",\"fill_alpha\":{\"value\":0.5},\"fill_color\":{\"value\":\"lightgrey\"},\"left_units\":\"screen\",\"level\":\"overlay\",\"line_alpha\":{\"value\":1.0},\"line_color\":{\"value\":\"black\"},\"line_dash\":[4,4],\"line_width\":{\"value\":2},\"render_mode\":\"css\",\"right_units\":\"screen\",\"top_units\":\"screen\"},\"id\":\"1069\",\"type\":\"BoxAnnotation\"},{\"attributes\":{},\"id\":\"1066\",\"type\":\"BasicTicker\"},{\"attributes\":{\"dimension\":\"lon\"},\"id\":\"1016\",\"type\":\"MercatorTicker\"},{\"attributes\":{\"attribution\":\"Map tiles by <a href=\\\"https://stamen.com\\\">Stamen Design</a>, under <a href=\\\"https://creativecommons.org/licenses/by/3.0\\\">CC BY 3.0</a>. Data by <a href=\\\"https://openstreetmap.org\\\">OpenStreetMap</a>, under <a href=\\\"https://www.openstreetmap.org/copyright\\\">ODbL</a>.\",\"url\":\"http://tile.stamen.com/toner/{Z}/{X}/{Y}.png\"},\"id\":\"1001\",\"type\":\"WMTSTileSource\"},{\"attributes\":{\"dimension\":\"lat\"},\"id\":\"1025\",\"type\":\"MercatorTicker\"},{\"attributes\":{},\"id\":\"1033\",\"type\":\"PanTool\"},{\"attributes\":{},\"id\":\"1034\",\"type\":\"WheelZoomTool\"},{\"attributes\":{\"callback\":null,\"tooltips\":[[\"Price\",\"@Price\"],[\"Region\",\"@State\"]]},\"id\":\"1039\",\"type\":\"HoverTool\"},{\"attributes\":{\"tile_source\":{\"id\":\"1001\",\"type\":\"WMTSTileSource\"}},\"id\":\"1048\",\"type\":\"TileRenderer\"},{\"attributes\":{\"fill_alpha\":{\"value\":0.1},\"fill_color\":{\"value\":\"#1f77b4\"},\"line_alpha\":{\"value\":0.1},\"line_color\":{\"value\":\"#1f77b4\"},\"size\":{\"units\":\"screen\",\"value\":30},\"x\":{\"field\":\"mercator_x\"},\"y\":{\"field\":\"mercator_y\"}},\"id\":\"1054\",\"type\":\"Circle\"},{\"attributes\":{\"callback\":null,\"data\":{\"Address\":[\"1205 N. Memorial Parkway\",\"3650 Galleria Circle\",\"8251 Eastchase Parkway\",\"5225 Commercial Boulevard\",\"330 West Dimond Blvd\",\"4125 DeBarr Road\",\"3911 Highway 69\",\"3901 West Costco Drive\",\"6255 East Grant Road\",\"17550 N. 79th Ave.\",\"2887 S Market St\",\"1445 West Elliot Road\",\"15255 North Hayden Road\",\"1415 North Arizona Avenue\",\"595 S Galleria Way\",\"1444 S Sossaman Rd\",\"2450 E Beardsley Rd\",\"19001 N. 27th Ave\",\"3801 N. 33rd Avenue\",\"1646 W. Montebello\",\"4502 East Oak Street\",\"10000 W. McDowell Road\",\"4570 E Cactus Rd\",\"2345 Fenton Pkwy\",\"1300 Dana Drive\",\"2100 Dr Martin Luther King Jr Way\",\"7981 East Stockton Boulevard\",\"1600 Expo Parkway\",\"2299 Bronze Star Drive\",\"11260 White Rock Road\",\"6750 Stanford Ranch Road\",\"1800 Cavitt Court\",\"7000 Auburn Blvd\",\"1006 West Wabash Avenue\",\"1900 Santa Rosa Avenue\",\"3801 Pelandale Ave.\",\"1445 R Street\",\"2440 Daniels St\",\"1616 East Hammer Lane\",\"1709 Automation Parkway\",\"5301 Almaden Expressway\",\"2201 Senter Road\",\"220 Sylvania Avenue\",\"1601 Coleman Avenue\",\"300 Vintage Way\",\"4801 Central Avenue\",\"198 Plaza Drive\",\"5101 Business Center Drive\",\"1900 Davis Street\",\"2800 Independence Drive\",\"22330 Hathaway Avenue\",\"43621 Pacific Commons Blvd\",\"3150 Fostoria Way\",\"2201 Verne Roberts Circle\",\"1001 Metro Center Boulevard\",\"450 10th Street\",\"150 Lawrence Station Road\",\"451 South Airport Boulevard\",\"1600 El Camino Real\",\"1000 North Rengstorff Avenue\",\"801 Tioga Avenue\",\"1339 North Davis Road\",\"4500 W Shaw\",\"380 West Ashlan Avenue\",\"1141 West Avenue L\",\"1335 South Bradley\",\"1540 Froom Ranch Way\",\"1405 W Cameron Ave\",\"7095 Market Place Drive\",\"2001 East Ventura Boulevard\",\"22633 Savi Ranch Parkway\",\"480 McKinley Street\",\"11000 Garden Grove Boulevard\",\"900 South Harbor Boulevard\",\"2655 El Camino Real\",\"2700 Park Ave\",\"17900 Newhope Street\",\"27972 Cabot Road\",\"33961 Doheny Park Road\",\"115 Technology West Drive\",\"12700 Day Street\",\"29315 Central Ave\",\"1099 East Hospitality Lane\",\"14555 Valley Center Drive\",\"2030 North Imperial Avenue\",\"72-800 Dinah Shore Drive\",\"12350 Carmel Mountain Road\",\"650 Gateway Center Drive\",\"1755 Hacienda Drive\",\"101 Town Center Parkway\",\"12155 Tech Center Drive\",\"951 Palomar Airport Road\",\"8125 Fletcher Parkway\",\"1130 Broadway\",\"895 East H Street\",\"2207 West Commonwealth Avenue\",\"520 N Lone Hill Ave\",\"9404 Central Avenue\",\"17550 Castleton St.\",\"11800 4th Street\",\"13111 Peyton Drive\",\"1220 West Foothill Boulevard\",\"1051 Burbank Blvd.\",\"6100 Sepulveda Boulevard\",\"18649 Via Princessa\",\"5700 Lindero Canyon Road\",\"8810 Tampa Avenue\",\"21300 Roscoe Boulevard\",\"2200 East Willow Street\",\"340 Lakewood Center Mall\",\"12324 Hoxie Avenue\",\"1345 North Montebello Boulevard\",\"101 N Beach Blvd\",\"2751 Sky Park Drive\",\"3560 West Century Blvd\",\"13463 Washington Boulevard\",\"14501 Hindry Avenue\",\"2901 Los Feliz Boulevard\",\"1051 Hume Way\",\"2955 North Tegner Road\",\"3250 W. Grant Line Road\",\"7251 Camino Arroyo\",\"5901 Redwood Drive\",\"28505 Hesperian Blvd\",\"2300 Middlefield Rd\",\"7100 N. Abby Street\",\"4900 Panama Lane\",\"3800 Rosedale Highway\",\"27220 Heather Ridge Road\",\"26610 Ynez Road\",\"16505 Sierra Lakes Parkway\",\"79795 Hwy 111\",\"4605 Morena Boulevard\",\"7803 Othello Ave\",\"13550 W Paxton St\",\"5401 Katella Ave\",\"12530 Prairie Ave\",\"6333 Telegraph Rd\",\"170 Cooley Mesa Rd\",\"5885 Barnes Road\",\"18414 Cottonwood Dr\",\"8686 Park Meadows Center Drive\",\"7900 West Quincy Avenue\",\"4000 River Point Parkway\",\"6400 West 92nd Avenue\",\"600 Marshall Road\",\"16375 N Washington St\",\"1471 South Havana\",\"5195 Wadsworth Blvd.\",\"5050 N Nevada Ave\",\"779 Connecticut Ave\",\"200 Federal Road\",\"3600 East Main Street\",\"1718 Boston Post Road\",\"75 Freshwater Blvd\",\"900 Center Boulevard\",\"17800 Congress Avenue\",\"6275 Naples Boulevard\",\"10088 Gulf Center Drive\",\"7171 Cypress Lake Drive\",\"10921 Causeway Blvd.\",\"1873 West Lantana Road\",\"11001 Southern Blvd - Ste 160\",\"3250 Northlake Boulevard\",\"1890 South University Drive\",\"13450 SW 120th St\",\"14585 Biscayne Boulevard\",\"8300 Park Boulevard\",\"1800 West Sample Road\",\"15915 Pines Blvd\",\"16580 NW 59th Avenue\",\"2101 Water Bridge Blvd\",\"3333 University Boulevard\",\"741 Orange Avenue\",\"4067 Lagniappe Way\",\"4901 Gate Parkway\",\"2655 Gulf to Bay Blvd.\",\"100 Cobb Parkway\",\"1550 Mall of Georgia Blvd\",\"2900 Cumberland Mall\",\"6350 Peachtree Dunwoody Rd N.E.\",\"1700 Mount Zion Road\",\"645 Barrett Parkway\",\"3980 Venture Drive\",\"2855 Jordan Ct\",\"500 Brookhaven Ave\",\"73-5600 Maiau Street\",\"333A Keahole Street\",\"94-1231 Ka Uka Blvd\",\"4300 Nuhou St\",\"540 Haleakala Highway\",\"4589 Kapolei Parkway\",\"525 Alakawa Street\",\"355 East Neider Avenue\",\"2051 S. Cole Road\",\"16700 N Marketplace Blvd\",\"731 Pole Line Road\",\"305 West Quinn Rd\",\"7311 North Melvina Ave\",\"7300 S. Cicero Ave\",\"2746 N. Clybourn Avenue\",\"1901 West 22nd Street\",\"9915 W 159th St\",\"1375 North Meacham Rd\",\"250 N. Randall Rd.\",\"505 W. Army Trail Road\",\"680 S. Rand Road\",\"1320 S. Route 59\",\"830 E Boughton Rd\",\"221 S. Randall Rd\",\"8400 W North Ave\",\"999 N. Elmhurst Road\",\"25901 Riverwoods Rd\",\"2900 Patriot Blvd\",\"1310 E. 79th Ave\",\"9010 Michigan Road\",\"6110 East 86th Street\",\"7205 Mills Civic Parkway\",\"9350 Marshall Drive\",\"12221 Blue Valley Parkway\",\"5020 Norton Healthcare Blvd\",\"2400 Five Lees Lane\",\"10 Monocacy Blvd.\",\"9919 Pulaski Highway\",\"7077 Arundel Mills Circle\",\"6675 Marie Curie Drive\",\"575 East Ordnance Road\",\"880 Russell Avenue\",\"10925 Baltimore Avenue (Route 1)\",\"16006 Crain Highway SE\",\"71 Second Avenue\",\"120 Stockwell Drive\",\"400 Commercial Circle\",\"11 Newbury Street (Route 1)\",\"119 Daggett Drive\",\"2 Mystic View Road\",\"5100 28th Street SE\",\"4901 Wilson Avenue\",\"400 Brown Road\",\"45460 Market Street\",\"2343 South Telegraph Rd\",\"20000 Haggerty Rd\",\"13700 Middlebelt Road\",\"6700 Whitmore Lake Rd\",\"30550 Stephenson Highway\",\"27118 Gratiot Avenue\",\"3000 Commerce Crossing\",\"12547 Riverdale Blvd.\",\"5801 16th Street West\",\"11330 Fountains Dr N\",\"12011 Technology Drive\",\"1431 Beam Ave\",\"14050 Burnhaven Dr\",\"241 East Linwood Blvd\",\"19040 E. Valley View Pkwy\",\"200 Costco Way\",\"4200 Rusty Road\",\"301 Highlands Blvd Drive\",\"2330 US Highway 93 N\",\"3220 Northern Pacific Avenue\",\"2505 Catron Street\",\"2195 E Custer Ave\",\"2290 King Avenue West\",\"12300 West Dodge Rd\",\"700 Old Clear Creek Road\",\"2200 Harvard Way\",\"4810 Galleria Parkway\",\"801 S. Pavilion Center Drive\",\"6555 N Decatur Blvd\",\"222 S Martin Luther King Blvd\",\"791 Marks Street\",\"311 Daniel Webster Highway\",\"2210 Route 27 North\",\"325 Promenade Blvd.\",\"465 Route 70\",\"100 Centerton Road\",\"245 Stafford Park Blvd\",\"156 SR-10 West\",\"315 Route 15\",\"2835 Route 35 South\",\"80 South River Street\",\"77 Willowbrook Boulevard\",\"1055 Hudson St\",\"20 Bridewell Place\",\"500 Eubank Blvd SE\",\"9955 Coors Bypass NW\",\"1420 Renaissance Boulevard NE\",\"3000 Middle Country Road\",\"625 Broadhollow Road\",\"125 Beacon Drive\",\"10 Garret Place\",\"1250 Old Country Road\",\"605 Rockaway Turnpike\",\"976 3rd Avenue\",\"32-50 Vernon Boulevard\",\"50 Overlook Boulevard\",\"1 Industrial Lane\",\"20 Stew Leonard Drive\",\"2975 Richmond Avenue\",\"61-35 Junction Boulevard\",\"1 Westchester Ave.\",\"517 E 117th St\",\"5351 Gingerwood Dr\",\"500 Tyvola Road\",\"2125 Matthews Township Pkwy\",\"1510 North Pointe Drive\",\"2838 Wake Forest Rd\",\"4201 West Wendover Ave\",\"1085 Hanes Mall Blvd.\",\"9691 Waterstone Blvd\",\"1100 East Kemper Road\",\"1409 Golden Gate Blvd.\",\"3405 West Central Ave\",\"1500 Gemini Place\",\"16690 Royalton Rd\",\"35804 Detroit Road\",\"2500 Northeast Highway 20\",\"3639 Crater Lake Highway\",\"2828 Chad Drive\",\"3130 Killdeer Ave\",\"1010 Hawthorne Avenue SE\",\"4849 NE 138th Ave\",\"7855 SW Dartmouth Ave\",\"1255 NE 48th Ave\",\"25900 SW Heather Place\",\"13130 SE 84th Avenue\",\"15901 SW Jenkins\",\"4141 NE Stephens\",\"1804 SE Ensign Lane\",\"740 Upper State Road\",\"201 Allendale Road\",\"1875 Hempstead Road\",\"5125 Jonestown Road Suite 221\",\"1050 Cranberry Square Drive\",\"501 W Waterfront Dr\",\"202 Costco Drive\",\"1021 Woodruff Rd\",\"1021 Oak Forest Lane\",\"3050 Ashley Town Center\",\"211 W Blackstock Rd\",\"3775 Hacks Cross Road\",\"2431 North Germantown Parkway\",\"6670 Charlotte Pike\",\"98 Seaboard Lane\",\"10401 Research Blvd\",\"5611 Utsa Blvd\",\"15330 IH-35 North\",\"12405 N. Gessner Rd.\",\"1150 Bunker Hill Road\",\"3836 Richmond Ave\",\"5300 Overton Ridge Blvd\",\"2601 E. State Hwy 114\",\"600 West Arbrook Blvd\",\"1701 Dallas Pkwy\",\"3800 N. Central Expressway\",\"851 S. State Hwy 121\",\"6101 Gateway West Blvd\",\"1201 N. Loop 1604 East\",\"250 West Highway 67\",\"1225 State Hwy 276\",\"835 North 3050 East\",\"3656 Wall Avenue\",\"3747 South 2700 West\",\"1818 South 300 West\",\"648 East 800 South\",\"11100 S. Auto Mall Drive\",\"198 North 1200 East\",\"573 West 100 North\",\"5201 South Intermountain Drive\",\"218 Lower Mountain View Drive\",\"12121 Jefferson Avenue\",\"850 Glenrock Road\",\"3700 Price Club Boulevard\",\"9650 West Broad Street\",\"1830 Reservoir Street\",\"251 Front Royal Pike\",\"1200 South Fern Street\",\"2700 Potomac Mills Circle - Ste 200\",\"7373 Boston Boulevard\",\"4725 West Ox Road\",\"1300 Edwards Ferry Road\",\"21398 Price/Cascades Plaza\",\"14390 Chantilly Crossing Lane\",\"10701 Sudley Manor Drive\",\"3102 Plank Road #600\",\"8629 120th Avenue NE\",\"301 Fifth Street\",\"8505A W. Gage Blvd\",\"5601 East Sprague Avenue\",\"7619 North Division Street\",\"2310 Longfibre Rd\",\"375 Highline Drive South\",\"6720 NE 84th Street\",\"1470 Marvin Rd NE\",\"5500 Littlerock Road\",\"3900 20th St. East\",\"2219 South 37th Street\",\"10000 Mickelberry Rd. NW\",\"955 West Washington St\",\"955 West Washington St\",\"1201 39th SW\",\"16616 Twin Lakes Ave\",\"1725 S. Burlington Blvd\",\"4299 Guide Meridian Street\",\"10200 19th Avenue SE\",\"400 Costco Drive Suite 150\",\"4401 4th Avenue South\",\"1175 North 205th Street\",\"24008 Snohomish-Woodinville Rd SE\",\"19105 Highway 99\",\"1801 10th Avenue NW\",\"35100 Enchanted Parkway South\",\"19610 SE 1st St\",\"10990 Harbor Hill Dr\",\"27520 Covington Way SE\",\"2150 Deming Way\",\"950 Port Washington Rd\"],\"City\":[\"Huntsville\",\"Hoover\",\"Montgomery\",\"Juneau\",\"Anchorage\",\"Anchorage\",\"Prescott\",\"Tucson\",\"Tucson\",\"Glendale\",\"Gilbert\",\"Tempe\",\"Scottsdale\",\"Gilbert\",\"Chandler\",\"Mesa\",\"Phoenix\",\"Phoenix\",\"Phoenix\",\"Phoenix\",\"Phoenix\",\"Avondale\",\"Phoenix\",\"San Diego\",\"Redding\",\"Chico\",\"Sacramento\",\"Sacramento\",\"Woodland\",\"Rancho Cordova\",\"Roseville\",\"Folsom\",\"Citrus Heights\",\"Eureka\",\"Santa Rosa\",\"Modesto\",\"Merced\",\"Manteca\",\"Stockton\",\"San Jose\",\"San Jose\",\"San Jose\",\"Santa Cruz\",\"Santa Clara\",\"Novato\",\"Richmond\",\"Vallejo\",\"Fairfield\",\"San Leandro\",\"Livermore\",\"Hayward\",\"Fremont\",\"Danville\",\"Antioch\",\"Foster City\",\"San Francisco\",\"Sunnyvale\",\"South San Francisco\",\"South San Francisco\",\"Mountain View\",\"Sand City\",\"Salinas\",\"Fresno\",\"Clovis\",\"Lancaster\",\"Santa Maria\",\"San Luis Obispo\",\"Visalia\",\"Goleta\",\"Oxnard\",\"Yorba Linda\",\"Corona\",\"Garden Grove\",\"Fullerton\",\"Tustin\",\"Tustin\",\"Fountain Valley\",\"Laguna Niguel\",\"San Juan Capistrano\",\"Irvine\",\"Moreno Valley\",\"Lake Elsinore\",\"San Bernardino\",\"Victorville\",\"El Centro\",\"Palm Desert\",\"San Diego\",\"San Diego\",\"Vista\",\"Santee\",\"Poway\",\"Carlsbad\",\"La Mesa\",\"Chula Vista\",\"Chula Vista\",\"Alhambra\",\"San Dimas\",\"Montclair\",\"City of Industry\",\"Rancho Cucamonga\",\"Chino Hills\",\"Azusa\",\"Burbank\",\"Van Nuys\",\"Santa Clarita\",\"Westlake Village\",\"Northridge\",\"Canoga Park\",\"Signal Hill\",\"Lakewood\",\"Norwalk\",\"Montebello\",\"La Habra\",\"Torrance\",\"Inglewood\",\"Marina del Rey\",\"Hawthorne\",\"Los Angeles\",\"Vacaville\",\"Turlock\",\"Tracy\",\"Gilroy\",\"Rohnert Park\",\"Hayward\",\"Redwood City\",\"Fresno\",\"Bakersfield\",\"Bakersfield\",\"Laguna Niguel\",\"Temecula\",\"Fontana\",\"La Quinta\",\"San Diego\",\"San Diego\",\"Pacoima\",\"Cypress\",\"Hawthorne\",\"Commerce\",\"Gypsum\",\"Colorado Springs\",\"Parker\",\"Littleton\",\"Littleton\",\"Sheridan\",\"Westminster\",\"Superior\",\"Thornton\",\"Aurora\",\"Arvada\",\"Colorado Springs\",\"Norwalk\",\"Brookfield\",\"Waterbury\",\"Milford\",\"Enfield\",\"Newark\",\"Boca Raton\",\"Naples\",\"Fort Myers\",\"Fort Myers\",\"Brandon\",\"Lantana\",\"Royal Palm Beach\",\"Lake Park\",\"Davie\",\"Kendall\",\"North Miami Beach\",\"Miami\",\"Pompano Beach\",\"Pembroke Pines\",\"Miami\",\"Orlando\",\"Winter Park\",\"Altamonte Springs\",\"Tallahassee\",\"Jacksonville\",\"Clearwater\",\"Ringgold\",\"Buford\",\"Atlanta\",\"Atlanta\",\"Morrow\",\"Kennesaw\",\"Duluth\",\"Alpharetta\",\"Atlanta\",\"Kailua-Kona (Hawaii)\",\"Honolulu (Oahu)\",\"Waipahu (Oahu)\",\"Lihue\",\"Kahului (Maui)\",\"Kapolei (Oahu)\",\"Iwilei (Oahu)\",\"Coeur D\\\\'Alene\",\"Boise\",\"Nampa\",\"Twin Falls\",\"Pocatello\",\"Niles\",\"Bedford Park\",\"Chicago\",\"Oak Brook\",\"Orland Park\",\"Schaumburg\",\"Lake in the Hills\",\"Bloomingdale\",\"Lake Zurich\",\"Naperville\",\"Bolingbrook\",\"St. Charles\",\"Melrose Park\",\"Mount Prospect\",\"Mettawa\",\"Glenview\",\"Merrillville\",\"Indianapolis\",\"Castleton\",\"West Des Moines\",\"Lenexa\",\"Overland Park\",\"Louisville\",\"Lanham\",\"Frederick\",\"Baltimore\",\"Hanover\",\"Elkridge\",\"Glen Burnie\",\"Gaithersburg\",\"Beltsville\",\"Brandywine\",\"Waltham\",\"Avon\",\"Dedham\",\"Danvers\",\"West Springfield\",\"Everett\",\"Grand Rapids\",\"Wyoming\",\"Auburn Hills\",\"Shelby Township\",\"Bloomfield\",\"Livonia\",\"Livonia\",\"Brighton\",\"Madison Heights\",\"Roseville\",\"Commerce Tnshp\",\"Coon Rapids\",\"St. Louis Park\",\"Maple Grove\",\"Eden Prairie\",\"Maplewood\",\"Burnsville\",\"Kansas City\",\"Independence\",\"St. Peters\",\"St. Louis\",\"Manchester\",\"Kalispell\",\"Missoula\",\"Bozeman\",\"Helena\",\"Billings\",\"Omaha\",\"Carson City\",\"Reno\",\"Sparks\",\"Las Vegas\",\"Las Vegas\",\"Las Vegas\",\"Henderson\",\"Nashua\",\"Edison\",\"Bridgewater\",\"Brick\",\"Mount Laurel\",\"Stafford Township\",\"East Hanover\",\"Wharton\",\"Hazlet\",\"Hackensack\",\"Wayne\",\"Union\",\"Clifton\",\"Albuquerque\",\"Albuquerque\",\"Albuquerque\",\"Nesconset\",\"Melville\",\"Holbrook\",\"Commack\",\"Westbury\",\"Lawrence\",\"Brooklyn\",\"Long Island City\",\"Nanuet\",\"New Rochelle\",\"Yonkers\",\"Staten Island\",\"Rego Park\",\"Port Chester\",\"New York\",\"Wilmington\",\"Charlotte\",\"Matthews\",\"Durham\",\"Raleigh\",\"Greensboro\",\"Winston Salem\",\"Cincinnati\",\"Springdale\",\"Cleveland\",\"Toledo\",\"Columbus\",\"Strongsville\",\"Avon\",\"Bend\",\"Medford\",\"Eugene\",\"Albany\",\"Salem\",\"Portland\",\"Tigard\",\"Hillsboro\",\"Wilsonville\",\"Clackamas\",\"Aloha\",\"Roseburg\",\"Warrenton\",\"North Wales\",\"King of Prussia\",\"Lancaster\",\"Harrisburg\",\"Cranberry Township\",\"West Homestead\",\"Pittsburgh\",\"Greenville\",\"Myrtle Beach\",\"Charleston\",\"Spartanburg\",\"Memphis\",\"Cordova\",\"Nashville\",\"Brentwood\",\"Austin\",\"San Antonio\",\"Selma\",\"Houston\",\"Houston\",\"Houston\",\"Fort Worth\",\"Southlake\",\"Arlington\",\"Plano\",\"Plano\",\"Lewisville\",\"El Paso\",\"San Antonio\",\"Duncanville\",\"Rockwall\",\"St. George\",\"Ogden\",\"West Valley\",\"Salt Lake City\",\"Orem\",\"Sandy\",\"Lehi\",\"West Bountiful\",\"Murray\",\"Colchester\",\"Newport News\",\"Norfolk\",\"Midlothian\",\"Glen Allen\",\"Harrisonburg\",\"Winchester\",\"Arlington\",\"Woodbridge\",\"Springfield\",\"Fairfax\",\"Leesburg\",\"Sterling\",\"Chantilly\",\"Manassas\",\"Fredericksburg\",\"Kirkland\",\"Clarkston\",\"Kennewick\",\"Spokane\",\"Spokane\",\"Union Gap\",\"East Wenatchee\",\"Vancouver\",\"Lacey\",\"Tumwater\",\"Fife\",\"Tacoma\",\"Silverdale\",\"Sequim\",\"Sequim\",\"Puyallup\",\"Marysville\",\"Burlington\",\"Bellingham\",\"Everett\",\"Tukwila\",\"Seattle\",\"Seattle\",\"Woodinville\",\"Lynnwood\",\"Issaquah\",\"Federal Way\",\"Vancouver\",\"Gig Harbor\",\"Covington\",\"Middleton\",\"Grafton\"],\"Latitude\":{\"__ndarray__\":\"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\",\"dtype\":\"float64\",\"shape\":[417]},\"Longitude\":{\"__ndarray__\":\"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\",\"dtype\":\"float64\",\"shape\":[417]},\"Price\":{\"__ndarray__\":\"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\",\"dtype\":\"int32\",\"shape\":[417]},\"State\":[\"Alabama\",\"Alabama\",\"Alabama\",\"Alaska\",\"Alaska\",\"Alaska\",\"Arizona\",\"Arizona\",\"Arizona\",\"Arizona\",\"Arizona\",\"Arizona\",\"Arizona\",\"Arizona\",\"Arizona\",\"Arizona\",\"Arizona\",\"Arizona\",\"Arizona\",\"Arizona\",\"Arizona\",\"Arizona\",\"Arizona\",\"California\",\"California\",\"California\",\"California\",\"California\",\"California\",\"California\",\"California\",\"California\",\"California\",\"California\",\"California\",\"California\",\"California\",\"California\",\"California\",\"California\",\"California\",\"California\",\"California\",\"California\",\"California\",\"California\",\"California\",\"California\",\"California\",\"California\",\"California\",\"California\",\"California\",\"California\",\"California\",\"California\",\"California\",\"California\",\"California\",\"California\",\"California\",\"California\",\"California\",\"California\",\"California\",\"California\",\"California\",\"California\",\"California\",\"California\",\"California\",\"California\",\"California\",\"California\",\"California\",\"California\",\"California\",\"California\",\"California\",\"California\",\"California\",\"California\",\"California\",\"California\",\"California\",\"California\",\"California\",\"California\",\"California\",\"California\",\"California\",\"California\",\"California\",\"California\",\"California\",\"California\",\"California\",\"California\",\"California\",\"California\",\"California\",\"California\",\"California\",\"California\",\"California\",\"California\",\"California\",\"California\",\"California\",\"California\",\"California\",\"California\",\"California\",\"California\",\"California\",\"California\",\"California\",\"California\",\"California\",\"California\",\"California\",\"California\",\"California\",\"California\",\"California\",\"California\",\"California\",\"California\",\"California\",\"California\",\"California\",\"California\",\"California\",\"California\",\"California\",\"California\",\"California\",\"California\",\"Colorado\",\"Colorado\",\"Colorado\",\"Colorado\",\"Colorado\",\"Colorado\",\"Colorado\",\"Colorado\",\"Colorado\",\"Colorado\",\"Colorado\",\"Colorado\",\"Connecticut\",\"Connecticut\",\"Connecticut\",\"Connecticut\",\"Connecticut\",\"Delaware\",\"Florida\",\"Florida\",\"Florida\",\"Florida\",\"Florida\",\"Florida\",\"Florida\",\"Florida\",\"Florida\",\"Florida\",\"Florida\",\"Florida\",\"Florida\",\"Florida\",\"Florida\",\"Florida\",\"Florida\",\"Florida\",\"Florida\",\"Florida\",\"Florida\",\"Georgia\",\"Georgia\",\"Georgia\",\"Georgia\",\"Georgia\",\"Georgia\",\"Georgia\",\"Georgia\",\"Georgia\",\"Hawaii\",\"Hawaii\",\"Hawaii\",\"Hawaii\",\"Hawaii\",\"Hawaii\",\"Hawaii\",\"Idaho\",\"Idaho\",\"Idaho\",\"Idaho\",\"Idaho\",\"Illinois\",\"Illinois\",\"Illinois\",\"Illinois\",\"Illinois\",\"Illinois\",\"Illinois\",\"Illinois\",\"Illinois\",\"Illinois\",\"Illinois\",\"Illinois\",\"Illinois\",\"Illinois\",\"Illinois\",\"Illinois\",\"Indiana\",\"Indiana\",\"Indiana\",\"Iowa\",\"Kansas\",\"Kansas\",\"Kentucky\",\"Maryland\",\"Maryland\",\"Maryland\",\"Maryland\",\"Maryland\",\"Maryland\",\"Maryland\",\"Maryland\",\"Maryland\",\"Massachusetts\",\"Massachusetts\",\"Massachusetts\",\"Massachusetts\",\"Massachusetts\",\"Massachusetts\",\"Michigan\",\"Michigan\",\"Michigan\",\"Michigan\",\"Michigan\",\"Michigan\",\"Michigan\",\"Michigan\",\"Michigan\",\"Michigan\",\"Michigan\",\"Minnesota\",\"Minnesota\",\"Minnesota\",\"Minnesota\",\"Minnesota\",\"Minnesota\",\"Missouri\",\"Missouri\",\"Missouri\",\"Missouri\",\"Missouri\",\"Montana\",\"Montana\",\"Montana\",\"Montana\",\"Montana\",\"Nebraska\",\"Nevada\",\"Nevada\",\"Nevada\",\"Nevada\",\"Nevada\",\"Nevada\",\"Nevada\",\"New Hampshire\",\"New Jersey\",\"New Jersey\",\"New Jersey\",\"New Jersey\",\"New Jersey\",\"New Jersey\",\"New Jersey\",\"New Jersey\",\"New Jersey\",\"New Jersey\",\"New Jersey\",\"New Jersey\",\"New Mexico\",\"New Mexico\",\"New Mexico\",\"New York\",\"New York\",\"New York\",\"New York\",\"New York\",\"New York\",\"New York\",\"New York\",\"New York\",\"New York\",\"New York\",\"New York\",\"New York\",\"New York\",\"New York\",\"North Carolina\",\"North Carolina\",\"North Carolina\",\"North Carolina\",\"North Carolina\",\"North Carolina\",\"North Carolina\",\"Ohio\",\"Ohio\",\"Ohio\",\"Ohio\",\"Ohio\",\"Ohio\",\"Ohio\",\"Oregon\",\"Oregon\",\"Oregon\",\"Oregon\",\"Oregon\",\"Oregon\",\"Oregon\",\"Oregon\",\"Oregon\",\"Oregon\",\"Oregon\",\"Oregon\",\"Oregon\",\"Pennsylvania\",\"Pennsylvania\",\"Pennsylvania\",\"Pennsylvania\",\"Pennsylvania\",\"Pennsylvania\",\"Pennsylvania\",\"South Carolina\",\"South Carolina\",\"South Carolina\",\"South Carolina\",\"Tennessee\",\"Tennessee\",\"Tennessee\",\"Tennessee\",\"Texas\",\"Texas\",\"Texas\",\"Texas\",\"Texas\",\"Texas\",\"Texas\",\"Texas\",\"Texas\",\"Texas\",\"Texas\",\"Texas\",\"Texas\",\"Texas\",\"Texas\",\"Texas\",\"Utah\",\"Utah\",\"Utah\",\"Utah\",\"Utah\",\"Utah\",\"Utah\",\"Utah\",\"Utah\",\"Vermont\",\"Virginia\",\"Virginia\",\"Virginia\",\"Virginia\",\"Virginia\",\"Virginia\",\"Virginia\",\"Virginia\",\"Virginia\",\"Virginia\",\"Virginia\",\"Virginia\",\"Virginia\",\"Virginia\",\"Virginia\",\"Washington\",\"Washington\",\"Washington\",\"Washington\",\"Washington\",\"Washington\",\"Washington\",\"Washington\",\"Washington\",\"Washington\",\"Washington\",\"Washington\",\"Washington\",\"Washington\",\"Washington\",\"Washington\",\"Washington\",\"Washington\",\"Washington\",\"Washington\",\"Washington\",\"Washington\",\"Washington\",\"Washington\",\"Washington\",\"Washington\",\"Washington\",\"Washington\",\"Washington\",\"Washington\",\"Wisconsin\",\"Wisconsin\"],\"Zip Code\":[\"35801-5930\",\"35244-2346\",\"36117\",\"99801-7210\",\"99515-1950\",\"99508-3115\",\"86301-6717\",\"85741-2864\",\"85712-5834\",\"85308-8711\",\"85296-6303\",\"85284-1103\",\"85260-2507\",\"85233-1616\",\"85226-4932\",\"85209-3400\",\"85050-1300\",\"85027-5036\",\"85017-4508\",\"85015-2557\",\"85008-2411\",\"85323\",\"85032\",\"92108-4743\",\"96003-4071\",\"95928-4422\",\"95823-9606\",\"95815-4228\",\"95776-5409\",\"95742-6571\",\"95678-1907\",\"95630-6235\",\"95621-4342\",\"95501-2121\",\"95407-7636\",\"95356-8300\",\"95340-5850\",\"95336-6745\",\"95210-4119\",\"95131-1866\",\"95118-3603\",\"95112-2627\",\"95060-2161\",\"95050-3100\",\"94945-5007\",\"94804-5878\",\"94591-3702\",\"94585-1624\",\"94577-1209\",\"94550-7628\",\"94541-4861\",\"94538-3809\",\"94526-5553\",\"94509-7911\",\"94404-2177\",\"94103-4304\",\"94086-5328\",\"94080-6909\",\"94080-1206\",\"94043-1716\",\"93955-3051\",\"93907-1988\",\"93722-6200\",\"93612-5611\",\"93534-7077\",\"93454-8006\",\"93405-7211\",\"93277-9527\",\"93117-5905\",\"93030-1813\",\"92887-4664\",\"92879-1291\",\"92843-1206\",\"92832-3098\",\"92782-8918\",\"92782-2708\",\"92708-5404\",\"92677-1211\",\"92675-4836\",\"92618-2408\",\"92553-7531\",\"92532-2212\",\"92408-2836\",\"92392-4216\",\"92243-1323\",\"92211-0817\",\"92128-4697\",\"92102-4594\",\"92081-4546\",\"92071-5899\",\"92064-7156\",\"92011-1110\",\"91942-2934\",\"91911-2707\",\"91910-7807\",\"91803-1302\",\"91773-1725\",\"91763-2421\",\"91748-1701\",\"91739-9318\",\"91709-6002\",\"91702-2819\",\"91506-1421\",\"91411-2503\",\"91387-4935\",\"91362-4063\",\"91324-3519\",\"91304-4200\",\"90806-2132\",\"90712-2409\",\"90650-2266\",\"90640-2585\",\"90631-4468\",\"90505-5351\",\"90303-1201\",\"90292-5658\",\"90250-6748\",\"90039-1502\",\"95687\",\"95380\",\"95377\",\"95020\",\"94928\",\"94545\",\"94063\",\"93720\",\"93308\",\"93308\",\"92677\",\"92591\",\"92336\",\"92253\",\"92117\",\"92111\",\"91331\",\"90720\",\"90250\",\"90040\",\"81637-9707\",\"80922-3512\",\"80138-8876\",\"80124-5129\",\"80123-2472\",\"80110-3316\",\"80031-2952\",\"80027-9730\",\"80023-8907\",\"80012-4013\",\"80002-4617\",\"80918\",\"06854-1615\",\"06804-2527\",\"06705-3851\",\"06460-2718\",\"06082-3854\",\"19702-3221\",\"33487\",\"34109-2030\",\"33913-8961\",\"33907-6521\",\"33511-2903\",\"33462-2698\",\"33411-4240\",\"33403-1702\",\"33324-5847\",\"33186-7393\",\"33181-1209\",\"33126-3832\",\"33064-1324\",\"33027-1201\",\"33014-5611\",\"32837-9283\",\"32792-7428\",\"32714-3031\",\"32317-1201\",\"32246-4405\",\"33759\",\"30742\",\"30519-6551\",\"30339-8107\",\"30328-4527\",\"30260-3014\",\"30144-4922\",\"30096-5077\",\"30004-3869\",\"30319\",\"96740-2630\",\"96825-3428\",\"96797-4495\",\"96766-8002\",\"96732-2302\",\"96707-1879\",\"96817\",\"83815-3723\",\"83709-2815\",\"83687-7909\",\"83301-3036\",\"83201-4988\",\"60714-3905\",\"60629-5817\",\"60614-1006\",\"60523-1785\",\"60467-4572\",\"60173-4805\",\"60156-5943\",\"60108-1391\",\"60047-3409\",\"60564\",\"60440\",\"60174\",\"60160\",\"60056\",\"60045\",\"60026\",\"46410-5768\",\"46268\",\"46250\",\"50266-8140\",\"66215-3845\",\"66213\",\"40241-2835\",\"20706\",\"21701-6554\",\"21220-1423\",\"21076-1387\",\"21075-6457\",\"21060-6575\",\"20879-3506\",\"20705-2117\",\"20613-8081\",\"02451-1107\",\"02322-1149\",\"02026-2635\",\"01923-1014\",\"01089-4672\",\"2149\",\"49512-2049\",\"49418-8788\",\"48326-1305\",\"48315-6204\",\"48302-0254\",\"48152-1011\",\"48150-2215\",\"48116-2160\",\"48071-1611\",\"48066-2915\",\"48390\",\"55448-6708\",\"55416-1446\",\"55369-7200\",\"55344-3620\",\"55109-1064\",\"55337\",\"64111-1119\",\"64055-7004\",\"63376-4385\",\"63128-1973\",\"63011\",\"59901-2547\",\"59808-1338\",\"59718-7993\",\"59602-1217\",\"59102-7415\",\"68154-2382\",\"89705-6853\",\"89502-4000\",\"89436-9605\",\"89144-4566\",\"89131-2796\",\"89106-4305\",\"89014-8601\",\"03060-5702\",\"08817-3314\",\"08807-3457\",\"08723-4049\",\"08054-6103\",\"08050-2734\",\"07936-2107\",\"07885-1224\",\"07730-1516\",\"07601-7110\",\"07470-7055\",\"07083-6809\",\"07014-1724\",\"87123-3338\",\"87114-5963\",\"87107-6811\",\"11767-1072\",\"11747-5007\",\"11741-4309\",\"11725-5421\",\"11590-5641\",\"11559-1029\",\"11232-2400\",\"11106-4927\",\"10954-5292\",\"10805-1203\",\"10710-7202\",\"10314-5851\",\"11374\",\"10573\",\"10035\",\"28405-3091\",\"28217-3504\",\"28105-5766\",\"27705-3405\",\"27609-7840\",\"27407-1908\",\"27103-1310\",\"45249-8220\",\"45246-3321\",\"44124-1808\",\"43606-1402\",\"43240-7002\",\"44136\",\"44011\",\"97701-6277\",\"97504-9259\",\"97408-7337\",\"97321-5325\",\"97301-5090\",\"97230-3401\",\"97223-8401\",\"97124-5008\",\"97070-5785\",\"97015-9733\",\"97006-5098\",\"97470\",\"97146\",\"19454-1403\",\"19406-1634\",\"17601-5671\",\"17112-2983\",\"16066-6142\",\"15120-5009\",\"15205\",\"29607-4108\",\"29577-9795\",\"29414-5664\",\"29301-1382\",\"38125-2302\",\"38016-4494\",\"37209-4202\",\"37027-2930\",\"78759-5712\",\"78249-1619\",\"78154-3814\",\"77064-1170\",\"77055-6208\",\"77027-5802\",\"76132-3301\",\"76092-6668\",\"76014-3702\",\"75093-4520\",\"75074-2221\",\"75067-4158\",\"79925\",\"78232\",\"75137\",\"75032\",\"84790-9041\",\"84405-7101\",\"84119-4903\",\"84115-1805\",\"84097-6528\",\"84070-4171\",\"84043-2294\",\"84010-7018\",\"84107\",\"05446-5830\",\"23602-6916\",\"23502-3702\",\"23112-3371\",\"23060-4115\",\"22801-8742\",\"22602-7319\",\"22202-2862\",\"22192-4653\",\"22153-2805\",\"22030-6101\",\"20176-3355\",\"20164-6607\",\"20151-2117\",\"20109-2845\",\"22407\",\"98033-5865\",\"99403-1860\",\"99336-8120\",\"99212-0826\",\"99208-5613\",\"98903-1513\",\"98802-5344\",\"98665-2016\",\"98516-3870\",\"98512-7363\",\"98424-1818\",\"98409-7473\",\"98383-8302\",\"98382-3266\",\"98382-3266\",\"98373-3803\",\"98271-4701\",\"98233-3223\",\"98226-6475\",\"98208-4256\",\"98188-4808\",\"98134-2389\",\"98133-3206\",\"98072-9743\",\"98036-5228\",\"98027-5384\",\"98003-8314\",\"98607\",\"98335\",\"98042\",\"53562-5507\",\"53024-9201\"],\"coordinates\":[[34.743094899999996,-86.6009553],[33.377649,-86.81241999999999],[32.363889,-86.15088399999999],[58.3592,-134.483],[61.143266000000004,-149.884217],[61.210815000000004,-149.804337],[34.548992999999996,-112.3954274],[32.326217699999994,-111.0491606],[32.2522189,-110.859554],[33.643277000000005,-112.233474],[33.296095,-111.74564699999999],[33.347289,-111.96186200000001],[33.624134399999996,-111.90191180000001],[33.376244,-111.84076499999999],[33.293696000000004,-111.89950900000001],[33.3886808,-111.6675437],[33.670943,-112.028124],[33.659688,-112.11584099999999],[33.49179,-112.12837900000001],[33.5206919,-112.09518899999999],[33.473335,-111.98553100000001],[33.467156,-112.274404],[33.600961,-111.98379299999999],[32.7789832,-117.1269067],[40.586449,-122.345675],[39.7214025,-121.8096578],[38.4677597,-121.41540690000001],[38.597139,-121.452409],[38.6699409,-121.7259571],[38.588195,-121.263769],[38.780609999999996,-121.267423],[38.645206,-121.10959799999999],[38.6903,-121.29858999999999],[40.7919385,-124.1825438],[38.420456200000004,-122.7134804],[37.7003612,-121.06713859999999],[37.3019943,-120.49400120000001],[37.784874,-121.26001399999998],[38.018791,-121.29275700000001],[37.3886293,-121.8829132],[37.253214,-121.879999],[37.309657,-121.85157099999999],[36.985104,-122.033615],[37.357021,-121.93884299999999],[38.087238,-122.551076],[37.898773999999996,-122.320125],[38.133192,-122.21374499999999],[38.215406,-122.14491100000001],[37.718174100000006,-122.1809332],[37.702588,-121.812265],[37.667516,-122.10278000000001],[37.503123200000005,-121.9748814],[37.78259,-121.972853],[38.009119,-121.83790400000001],[37.561366,-122.275144],[37.770488,-122.411106],[37.372027,-121.99477900000001],[37.64223079999999,-122.4010744],[37.6654356,-122.44908570000001],[37.420676,-122.09506100000002],[36.617070500000004,-121.8474767],[36.703939,-121.668608],[36.80989,-119.874081],[36.792187,-119.71434199999999],[34.66129,-118.15142900000001],[34.936541,-120.42083999999998],[35.251917,-120.69101299999998],[36.292806,-119.30663799999999],[34.427890000000005,-119.874572],[34.2251071,-119.14856699999999],[33.87567,-117.74385],[33.8899732,-117.5208947],[33.773511,-117.940271],[33.862449,-117.92211],[33.7282,-117.79629399999999],[33.699689,-117.82261799999999],[33.703448,-117.931978],[33.5569565,-117.67887579999999],[33.469498,-117.677697],[33.657000599999996,-117.7397337],[33.935555,-117.276579],[33.696337,-117.33918200000001],[34.068044,-117.263077],[34.5155574,-117.31964280000001],[32.8152064,-115.5700028],[33.79963920000001,-116.3819564],[32.987241,-117.077675],[32.712739,-117.11613],[33.1879309,-117.2767568],[32.840641999999995,-116.987356],[32.93649,-117.033125],[33.1201381,-117.3165503],[32.773971,-117.024305],[32.608954499999996,-117.08095259999999],[32.637276,-117.022199],[34.089515000000006,-118.148531],[34.112139,-117.82633],[34.083039,-117.690661],[33.994075,-117.92200000000001],[34.078576,-117.54827140000002],[34.014463,-117.74181499999999],[34.131982,-117.92568100000001],[34.185739,-118.324045],[34.181613,-118.46401000000002],[34.4027129,-118.4550432],[34.152307,-118.79713100000001],[34.230765000000005,-118.551069],[34.218644,-118.59611899999999],[33.804317299999994,-118.166725],[33.850463,-118.136453],[33.919958,-118.102519],[34.032917,-118.09746299999999],[33.932029,-117.96978600000001],[33.800813,-118.34993],[33.943257,-118.33385600000001],[33.992576,-118.446821],[33.898804999999996,-118.372745],[34.1285583,-118.26367959999999],[38.3506756,-121.98177079999999],[37.519131,-120.888552],[37.7510679,-121.47509099999999],[37.008207,-121.55644699999999],[38.352725899999996,-122.717092],[37.616322100000005,-122.08895090000001],[37.478656,-122.216527],[36.839426,-119.78773999999999],[35.297271,-119.058275],[35.384837,-119.048452],[33.567617999999996,-117.71157099999999],[33.521227,-117.154362],[34.137557,-117.442672],[33.704896000000005,-116.272801],[32.823495799999996,-117.22828510000001],[32.816251,-117.153631],[34.272589399999994,-118.4276271],[33.803183399999995,-118.038976],[33.918618,-118.342576],[33.994758600000004,-118.14306140000001],[39.64338720000001,-106.8885487],[38.892736,-104.71771],[39.5580896,-104.7758852],[39.561203000000006,-104.874753],[39.638284999999996,-105.082856],[39.644445000000005,-105.006451],[39.862237,-105.0661949],[39.9576167,-105.16992979999999],[39.991358,-104.98316299999999],[39.690471,-104.86808],[39.790074,-105.082637],[38.9037505,-104.81721359999999],[41.091945700000004,-73.4515808],[41.4422731,-73.40512790000001],[41.542671999999996,-72.96866750000001],[41.249660999999996,-73.023977],[41.9936047,-72.5754399],[39.677735999999996,-75.64737],[26.411955,-80.1008839],[26.220259999999996,-81.77492],[26.489631,-81.785933],[26.544446999999998,-81.8742089],[27.921490999999996,-82.330936],[26.5872905,-80.0726927],[26.681031400000002,-80.2195563],[26.808351899999998,-80.0879667],[26.096903899999997,-80.2509582],[25.655668,-80.41206899999999],[25.909564000000003,-80.156203],[25.774109,-80.330536],[26.273566,-80.148255],[26.009617000000002,-80.360331],[25.923451,-80.29870600000001],[28.404252000000003,-81.40671],[28.59907,-81.30024],[28.661867200000003,-81.4176945],[30.4606461,-84.2124709],[30.252071,-81.533776],[27.9604528,-82.7275752],[34.932647700000004,-85.2547988],[34.0620378,-83.9943156],[33.8816153,-84.46943590000001],[33.927816,-84.352462],[33.572052,-84.333989],[34.009217799999995,-84.5686483],[33.947764,-84.143039],[34.090513,-84.277902],[33.8709805,-84.33502829999999],[19.687344,-156.017457],[21.282117,-157.7119219],[21.418893100000002,-158.00638480000003],[21.966535500000003,-159.3799149],[20.887082,-156.45136399999998],[21.3272958,-158.08810830000002],[21.318473899999997,-157.870711],[47.7080223,-116.7819023],[43.585487,-116.27668600000001],[43.615175,-116.59278400000001],[42.591998,-114.46563950000001],[42.905739000000004,-112.46893100000001],[42.014665,-87.7815541],[41.7600708,-87.7418497],[41.929772899999996,-87.67704470000001],[41.845569,-87.964888],[41.6011911,-87.86182559999999],[42.0565401,-88.0449252],[42.178880799999995,-88.3387302],[41.939683200000005,-88.1323182],[42.187135,-88.093412],[41.744338799999994,-88.2058422],[41.7265993,-88.03255659999999],[41.9073026,-88.34001909999999],[41.9091302,-87.8367543],[42.0831646,-87.9332458],[42.240048,-87.90571609999999],[42.1090138,-87.8214507],[41.4738435,-87.3218679],[39.916734999999996,-86.22622700000001],[39.913779,-86.06179300000001],[41.562810999999996,-93.804976],[38.95885,-94.733002],[38.906906,-94.670999],[38.316367299999996,-85.57286409999999],[38.973144500000004,-76.8160858],[39.4018344,-77.40753640000001],[39.358195,-76.444565],[39.15582,-76.730744],[39.186369,-76.793645],[39.2035401,-76.5939428],[39.155646000000004,-77.214124],[37.228312,-77.39030009999999],[38.6645584,-76.8747015],[42.395066,-71.265264],[42.136598,-71.066458],[42.230996000000005,-71.17497],[37.226693,-77.401371],[42.13216,-72.620485],[42.4017251,-71.06952640000002],[42.910564,-85.542713],[42.875818,-85.76385],[42.7070854,-83.2963467],[42.6295851,-82.98076999999999],[42.606916,-83.293322],[42.432885,-83.430471],[42.3813419,-83.332026],[42.5044786,-83.7594455],[42.5161919,-83.117129],[42.4959314,-82.9371897],[42.534006,-83.444799],[45.198543799999996,-93.3502188],[44.967625399999996,-93.3495534],[45.09298,-93.424382],[44.8603208,-93.4358767],[45.029375,-93.039964],[44.7481179,-93.2934839],[39.0682148,-94.5815625],[39.037203399999996,-94.3551426],[38.797261999999996,-90.607339],[38.506797999999996,-90.3408851],[38.597951,-90.506914],[48.174177,-114.29897],[46.89293,-114.03735800000001],[45.71334,-111.07065300000001],[46.616615,-112.0049737],[45.755016299999994,-108.5727142],[41.265223999999996,-96.10534],[39.1123484,-119.8451288],[39.503102,-119.785095],[39.579204,-119.73879199999999],[36.1633476,-115.3318905],[36.278946000000005,-115.209445],[36.172128799999996,-115.1608236],[36.06985,-115.03716599999998],[42.7023,-71.443126],[40.5317305,-74.37662370000001],[40.5644881,-74.55530809999999],[40.0547573,-74.1563178],[39.950586799999996,-74.87611319999999],[39.707209999999996,-74.287661],[40.80968529999999,-74.381266],[40.906896,-74.569445],[40.4194098,-74.17051359999999],[40.876239,-74.038818],[40.88724129999999,-74.2541309],[40.6931,-74.2873],[40.830625,-74.1366964],[35.068225,-106.53038500000001],[35.19547,-106.66139],[35.136386,-106.614209],[40.862057,-73.130236],[40.757604,-73.42063399999999],[40.773266,-73.050016],[40.806752200000005,-73.2865925],[40.743347,-73.601117],[40.630782399999994,-73.7398576],[40.6554813,-74.00907420000001],[40.7673216,-73.9375771],[41.107253,-74.025274],[40.896403,-73.7938571],[40.9749617,-73.86129050000001],[40.57268,-74.168663],[40.7333304,-73.86357170000001],[40.997205,-73.66156099999999],[40.7953918,-73.93185159999999],[34.247172799999994,-77.87389959999999],[35.162075,-80.88395799999999],[35.130096,-80.70474200000001],[36.028911,-78.914527],[35.818255,-78.622315],[36.058064,-79.883838],[36.064731,-80.317952],[39.2956999,-84.3032],[39.288171999999996,-84.4510214],[41.524169799999996,-81.4467262],[41.677335799999994,-83.6241301],[40.150574,-82.976965],[41.31307929999999,-81.8162777],[41.461881,-82.012682],[44.057266999999996,-121.26761599999999],[42.368775899999996,-122.858378],[44.089117,-123.06635],[44.6391268,-123.06581399999999],[44.918976,-122.995309],[45.559288,-122.523747],[45.4367116,-122.75647959999999],[45.535709000000004,-122.9355],[45.332949,-122.76409299999999],[45.429738,-122.571376],[45.509085,-122.84191899999999],[43.259025799999996,-123.3513746],[46.1472442,-123.91740359999999],[40.2391985,-75.2351214],[40.091369,-75.385931],[40.052357,-76.256924],[40.3098913,-76.79965059999999],[40.691215,-80.107991],[40.406792200000005,-79.9195722],[40.4581284,-80.1671087],[34.83608579999999,-82.311008],[33.705698,-78.915906],[32.7953856,-80.03696540000001],[34.9370256,-81.9906978],[35.046563899999995,-89.7972209],[35.192040000000006,-89.794989],[36.1392669,-86.885891],[35.963436,-86.818149],[30.3968644,-97.7456423],[29.576287,-98.59715600000001],[29.598390999999996,-98.27791500000001],[29.9536092,-95.54681090000001],[29.787754999999997,-95.529263],[29.732782899999997,-95.43895649999999],[32.6775654,-97.4087829],[32.9419217,-97.1121332],[32.6846619,-97.11274859999999],[33.023989,-96.831701],[33.044137899999996,-96.699179],[32.9952011,-96.9648545],[31.783496999999997,-106.410297],[29.611904,-98.474805],[32.620946,-96.910279],[32.9087304,-96.4454985],[37.122515,-113.523381],[41.197413,-111.97937250000001],[40.6903769,-111.9541263],[40.730657,-111.90293999999999],[40.282244299999995,-111.6798494],[40.550667499999996,-111.8934445],[40.389719,-111.8229955],[40.889379,-111.89510800000001],[40.6577119,-111.889873],[44.5034,-73.173988],[37.106044,-76.49655899999999],[36.851561,-76.19968100000001],[37.438778000000006,-77.587539],[37.642294,-77.561159],[38.428596999999996,-78.85613000000001],[39.157827000000005,-78.15792900000001],[38.8624735,-77.0567423],[38.642245,-77.29444699999999],[38.739883,-77.197301],[38.849315000000004,-77.37178399999999],[39.115223,-77.533198],[39.023821000000005,-77.401854],[38.895106899999995,-77.44302090000001],[38.783572,-77.51642690000001],[38.293479,-77.515701],[47.681717,-122.18208600000001],[46.4229672,-117.04427220000001],[46.225654,-119.23524599999999],[47.658358,-117.332852],[47.724927,-117.41148899999999],[46.562354,-120.499306],[47.401812,-120.28045900000001],[45.684942,-122.60471799999999],[47.05934,-122.760723],[46.996336,-122.916699],[47.238296999999996,-122.37395500000001],[47.224683,-122.469182],[47.656571,-122.680673],[48.077069200000004,-123.1254206],[48.077069200000004,-123.1254206],[47.156471999999994,-122.308125],[48.147560999999996,-122.19123700000002],[48.453882,-122.33803799999998],[48.797450700000006,-122.4882889],[47.903556,-122.209275],[47.445595000000004,-122.24833999999998],[47.5649224,-122.3304533],[47.77567,-122.344819],[47.779015,-122.1484548],[47.82549,-122.30991499999999],[47.551216499999995,-122.0528913],[47.2869797,-122.31352009999999],[45.6212994,-122.45913459999998],[47.3577482,-122.6038876],[47.354838,-122.12118500000001],[43.100195,-89.522751],[43.3246907,-87.9216153]],\"index\":[0,1,2,3,4,5,6,7,8,9,10,11,12,13,14,15,16,17,18,19,20,21,22,23,24,25,26,27,28,29,30,31,32,33,34,35,36,37,38,39,40,41,42,43,44,45,46,47,48,49,50,51,52,53,54,55,56,57,58,59,60,61,62,63,64,65,66,67,68,69,70,71,72,73,74,75,76,77,78,79,80,81,82,83,84,85,86,87,88,89,90,91,92,93,94,95,96,97,98,99,100,101,102,103,104,105,106,107,108,109,110,111,112,113,114,115,116,117,118,119,120,121,122,123,124,125,126,127,128,129,130,131,132,133,134,135,136,137,138,139,140,141,142,143,144,145,146,147,148,149,150,151,152,153,154,155,156,157,158,159,160,161,162,163,164,165,166,167,168,169,170,171,172,173,174,175,176,177,178,179,180,181,182,183,184,185,186,187,188,189,190,191,192,193,194,195,196,197,198,199,200,201,202,203,204,205,206,207,208,209,210,211,212,213,214,215,216,217,218,219,220,221,222,223,224,225,226,227,228,229,230,231,232,233,234,235,236,237,238,239,240,241,242,243,244,245,246,247,248,249,250,251,252,253,254,255,256,257,258,259,260,261,262,263,264,265,266,267,268,269,270,271,272,273,274,275,276,277,278,279,280,281,282,283,284,285,286,287,288,289,290,291,292,293,294,295,296,297,298,299,300,301,302,303,304,305,306,307,308,309,310,311,312,313,314,315,316,317,318,319,320,321,322,323,324,325,326,327,328,329,330,331,332,333,334,335,336,337,338,339,340,341,342,343,344,345,346,347,348,349,350,351,352,353,354,355,356,357,358,359,360,361,362,363,364,365,366,367,368,369,370,371,372,373,374,375,376,377,378,379,380,381,382,383,384,385,386,387,388,389,390,391,392,393,394,395,396,397,398,399,400,401,402,403,404,405,406,407,408,409,410,411,412,413,414,415,416],\"mercator\":[[-9640374.246207045,4129023.341958216],[-9663914.388931798,3945538.5044474667],[-9590272.538270378,3811172.0691007767],[-14970579.08035181,8043155.813635133],[-16685034.714388518,8658793.6566211],[-16676142.513463954,8674390.937092125],[-12511801.745660348,4102758.7544735693],[-12361936.011012457,3806208.356273418],[-12340829.100849414,3796464.002785216],[-12493773.175640108,3981002.830148671],[-12439468.522404898,3934671.894700672],[-12463537.466106767,3941492.0169633515],[-12456863.840369811,3978443.430806123],[-12450057.009730171,3945351.2099474273],[-12456596.361897334,3934352.3954424644],[-12430774.102819623,3947009.2113717427],[-12470913.71820571,3984702.8288731873],[-12480678.329979623,3983197.4628359796],[-12482074.05375519,3960764.2764173644],[-12478379.35985576,3964622.8104794943],[-12466172.287134353,3958301.1243815264],[-12498329.482398279,3957476.5428139945],[-12465978.813859353,3975345.8671268392],[-13038507.612035263,3866004.2907453557],[-13619458.24175934,4951533.027383567],[-13559789.079998905,4825539.458338458],[-13515901.270566115,4645716.948401469],[-13520020.325496398,4664128.382085262],[-13550471.560695864,4674503.109670237],[-13499021.016753154,4662854.532125018],[-13499427.778172512,4690294.38184441],[-13481858.779538061,4670977.049243377],[-13502897.272742063,4677406.296143178],[-13823937.541229391,4981700.909107802],[-13660402.151598355,4638993.632899692],[-13477132.220750675,4537182.948422773],[-13413330.857228097,4481284.911304362],[-13498603.012065222,4549080.1399970725],[-13502247.946152272,4582080.691145749],[-13567943.833824763,4493416.029486179],[-13567619.426564692,4474460.570106839],[-13564454.83608042,4482357.321591969],[-13584719.881462393,4437030.680288631],[-13574169.910680931,4488988.436144251],[-13642323.37648777,4591756.957088765],[-13616614.028769573,4565135.826704107],[-13604771.86133898,4598258.499591093],[-13597109.29550972,4609900.306085565],[-13601119.268470973,4539689.409423072],[-13560079.3121753,4537496.24948476],[-13592419.294043109,4532562.864416051],[-13578181.687017936,4509469.634510122],[-13577955.886562811,4548758.433826682],[-13562933.43259975,4580714.10183697],[-13611606.7667542,4517645.514238811],[-13626741.987361437,4547054.007709845],[-13580396.677717945,4491090.19781265],[-13625625.274757594,4529007.580712961],[-13630969.86822592,4532270.299273369],[-13591560.018893678,4497906.938696419],[-13563999.060689267,4385864.915848633],[-13544087.488086412,4397919.653953619],[-13344321.65623163,4412640.929275166],[-13326539.592091804,4410179.784681984],[-13152556.912777616,4117946.544980963],[-13405186.589698266,4155260.659963821],[-13435262.110484358,4198168.575446007],[-13281154.190417422,4340986.184552263],[-13344376.31410161,4086402.933288088],[-13263557.807188237,4059068.609432564],[-13107185.426039582,4012119.7373392303],[-13082366.155573923,4014037.6659374726],[-13129050.911740689,3998430.4801388923],[-13127029.238468396,4010347.207743154],[-13113023.465414748,3992364.0551663083],[-13115953.839690387,3988548.5257883635],[-13128127.73920354,3989051.5073770317],[-13099952.531180883,3969466.12252781],[-13099821.307765136,3957789.0735277156],[-13106727.201619633,3982838.049873415],[-13055169.05625712,4020151.9162262976],[-13062137.990339251,3988100.022327041],[-13053666.020492429,4037942.3363893637],[-13059962.896544747,4098240.664574709],[-12865193.8626732,3870801.3128113463],[-12955580.123972965,4001930.0905384654],[-13033027.164260376,3893610.5419728495],[-13037307.95527883,3857236.6490059737],[-13055188.848862585,3920275.296686122],[-13022972.899171418,3874170.906630691],[-13028067.880945534,3886877.1040362874],[-13059618.641019465,3911261.1652872907],[-13027086.043036738,3865340.6812105505],[-13033392.025023397,3843513.5009818515],[-13026851.604189126,3847256.797253903],[-13152234.308893297,4040828.046139694],[-13116367.057640212,4043869.511475188],[-13101264.45364378,4039957.5924667395],[-13127016.993324406,4028006.471138926],[-13085413.715877524,4039357.749381524],[-13106958.890875818,4030744.2190399095],[-13127426.760370018,4046537.7818007967],[-13171772.438000388,4053769.586481368],[-13187353.27052927,4053214.3620721716],[-13186355.090919223,4083005.564686359],[-13224436.130621817,4049271.5157309347],[-13197044.63407824,4059830.377283008],[-13202059.577138476,4058198.493743101],[-13154259.65570879,4002556.7878677477],[-13150889.792083496,4008740.4908576836],[-13147112.276482916,4018059.398161573],[-13146549.445137465,4033222.831856089],[-13132336.506511454,4019678.828994925],[-13174653.94301957,4002087.334347849],[-13172864.593524562,4021185.370028858],[-13185439.799802024,4027805.2078756285],[-13177193.697202021,4015222.0903256983],[-13165052.592410855,4046077.3552433774],[-13578948.611517807,4629083.646552674],[-13457252.051376175,4511716.106148692],[-13522545.27418657,4544319.495083014],[-13531601.782679545,4440250.798958498],[-13660804.193071306,4629374.686420206],[-13590879.84567298,4525365.883382134],[-13605081.552162372,4506036.934461846],[-13334710.220077047,4416748.413859287],[-13253506.547725532,4204352.827218487],[-13252413.056367472,4216302.717675344],[-13103592.144196266,3970890.403913136],[-13041563.92205084,3964694.260896469],[-13073658.444441447,4047287.5597324334],[-12943429.00042763,3989245.26619964],[-13049793.003900701,3871899.3492196808],[-13041482.547503069,3870939.677719032],[-13183303.144627685,4065463.11579096],[-13140038.702079441,4002404.882860075],[-13173835.299484277,4017879.6395241744],[-13151625.435806455,4028098.255884724],[-11898778.812916024,4814254.800651538],[-11657122.154237691,4706318.5506670475],[-11663598.18787849,4801931.341191658],[-11674604.10103034,4802380.886183645],[-11697770.021022893,4813517.2279479895],[-11689264.65532883,4814407.72275469],[-11695915.315854836,4845943.084397814],[-11707463.032100327,4859785.163972265],[-11686672.247027239,4864686.527074159],[-11673861.266068276,4821063.792667328],[-11697745.642054409,4835483.134686509],[-11668198.844321787,4707894.019984663],[-8176592.572616991,5025913.107667539],[-8171421.45944312,5077797.350779221],[-8122834.909963692,5092718.205182637],[-8128991.935339721,5049236.641471355],[-8079061.013765831,5160021.5072599575],[-8421026.708250359,4819221.67136662],[-8916789.607839126,3050193.447472908],[-9103142.454060681,3026386.761623264],[-9104368.415612789,3059851.3133105333],[-9114195.243850106,3066670.801965685],[-9165037.872053595,3239079.201848232],[-8913651.377810273,3072003.0982629093],[-8930000.15897834,3083677.0454919846],[-8915351.67171265,3099548.1877521323],[-8933495.802496282,3011087.8650277387],[-8951430.574713577,2956496.075527204],[-8922947.70188227,2987884.362258869],[-8942354.36267073,2971130.168353807],[-8922062.934569443,3033002.9058842524],[-8945671.126898916,3000272.098858812],[-8938811.063278783,2989603.106928219],[-9062153.504355691,3300036.983718288],[-9050301.318170931,3324714.9266335303],[-9063376.293302309,3332679.2966272077],[-9374489.37903137,3562900.0967937796],[-9076298.42677283,3535992.545211949],[-9209191.545826247,3243988.7068322226],[-9490520.790098991,4154731.998269131],[-9350204.442121513,4037135.2319638887],[-9403094.591983063,4012916.908770058],[-9390073.11699896,4019113.591913861],[-9388016.712045535,3971482.7985756993],[-9414138.865831442,4030039.818629832],[-9366760.25527856,4021790.162329587],[-9381773.135765413,4040962.1954772808],[-9388132.406392315,4011490.988157924],[-17367783.868101455,2236029.081462631],[-17556410.83793653,2425549.993110574],[-17589190.298022043,2441897.7814416513],[-17742090.96934327,2507507.8958640415],[-17416086.17439309,2378419.4046334564],[-17598287.716427885,2430948.1788195553],[-17574087.159692053,2429893.964267993],[-13000101.897905823,6058416.881858082],[-12943861.476649364,5401517.826331812],[-12979049.345050136,5406081.482425291],[-12742256.702466423,5250074.545340495],[-12519984.128983822,5297635.349422708],[-9771797.903454196,5163176.4431229485],[-9767378.029863944,5125106.695261313],[-9760163.970263086,5150465.563019352],[-9792206.53984734,5137874.426531732],[-9780733.685959408,5101425.750559417],[-9801116.24019586,5169452.643097432],[-9833822.463188378,5187812.697354861],[-9810844.784454757,5151948.557683097],[-9806513.766082056,5189052.709045086],[-9819029.438695842,5122759.237205036],[-9799739.373942034,5120112.918896694],[-9833965.94288006,5147103.921107466],[-9777942.761609882,5147377.292769032],[-9788684.146255761,5173445.249943095],[-9785619.55407007,5197005.570298221],[-9776239.17265058,5177323.196144687],[-9720625.8697455,5082486.716552378],[-9598659.682665218,4853849.803775014],[-9580354.973516116,4853420.7778906105],[-10442322.162195249,5095713.965021689],[-10545629.543958167,4715778.901046394],[-10538727.40157051,4708345.414919433],[-9525927.657334,4624214.808894189],[-8551127.555988412,4717825.482357718],[-8616967.535609791,4779395.44715962],[-8509770.049713302,4773110.583843058],[-8541627.35026903,4744016.091476698],[-8548629.45755942,4748402.60048987],[-8526398.710345121,4750869.023425027],[-8595436.965728683,4743991.112397615],[-8615048.799470628,4470978.495636809],[-8557652.625864904,4673735.708770913],[-7933212.899728212,5220343.356772493],[-7911081.9170415625,5181463.174867752],[-7923161.417626523,5195644.575753717],[-8616281.20642125,4470752.148878078],[-8084075.411360562,5180796.975300549],[-7911423.489767115,5221347.166518841],[-9522571.252235144,5298368.668343979],[-9547188.110470695,5293089.141196704],[-9272506.899583973,5267493.00292741],[-9237377.06203375,5255759.803420823],[-9272170.191520171,5252330.565277789],[-9287437.548362976,5226045.705733526],[-9276478.701091833,5218274.8867842965],[-9324058.822186949,5236850.019718188],[-9252556.476478832,5238618.871297021],[-9232525.725229135,5235559.497107447],[-9289032.534027064,5241309.653973992],[-10391698.822256673,5652832.488251953],[-10391624.7502675,5616426.207132591],[-10399954.631916273,5636171.180694208],[-10401234.216067092,5599558.593521549],[-10357161.415904503,5626147.164817319],[-10385383.122078465,5581954.585216519],[-10528771.37593218,4731447.472947257],[-10503566.427958714,4727002.042317659],[-10086362.839613518,4692672.55990824],[-10056701.327145634,4651268.841242428],[-10075183.579750601,4664244.0391128985],[-12723703.138595652,6135880.752808184],[-12694580.623970244,5924615.000910049],[-12364328.534036385,5734530.153753103],[-12468336.638597999,5879718.868492454],[-12086259.25878762,5741176.948895625],[-10698397.511314426,5051541.205055054],[-13341098.712070286,4737777.317474187],[-13334415.780023899,4793994.983424115],[-13329261.353641698,4804980.453071473],[-12838687.322685586,4323121.090715886],[-12825056.751975657,4339072.107461625],[-12819644.242486002,4324331.95099863],[-12805878.741421282,4310236.885744182],[-7953012.406999684,5266768.09072534],[-8279567.877206923,4943515.455618479],[-8299458.933627623,4948314.441824106],[-8255043.536600168,4873902.654555116],[-8335170.794003509,4858764.283950896],[-8269664.594743328,4823485.610634263],[-8280084.655679032,4984310.686950787],[-8301032.64613702,4998618.529201317],[-8256623.805827572,4927078.26537323],[-8241963.518695858,4994104.047379974],[-8265932.041085082,4995723.981046101],[-8269624.408407153,4967178.831753444],[-8252859.292343519,4987390.898513958],[-11858908.21221139,4173156.5185531024],[-11873491.622102762,4190476.5664612786],[-11868239.457207644,4182430.937564477],[-8140820.633111923,4992016.344820912],[-8173147.590599307,4976653.785753074],[-8131890.583560486,4978955.754262736],[-8158226.159074142,4983879.308129557],[-8193238.866256151,4974558.792752674],[-8208683.399200504,4958033.744551969],[-8238652.454025602,4961657.277983204],[-8230693.433260405,4978081.994713261],[-8240455.807512553,5028174.351349435],[-8214694.596043595,4997073.117822936],[-8222201.247794056,5008649.221492113],[-8256417.797977909,4949514.921682836],[-8222455.189816453,4973087.173354769],[-8199967.461557658,5011929.410726251],[-8230056.073515866,4982208.683779654],[-8668882.849558508,4062039.778725887],[-9003961.017904526,4185928.3603385063],[-8984010.78404252,4181574.7552284813],[-8784724.961832039,4304600.210608672],[-8752196.070788354,4275642.271185893],[-8892628.168772358,4308613.832990381],[-8940953.518198589,4309531.9172155885],[-9384589.2962435,4764116.991463958],[-9401044.69921985,4763034.202705966],[-9066608.087363172,5089966.748370396],[-9308995.580762463,5112767.786945811],[-9236953.491371285,4887847.469210088],[-9107746.372165063,5058631.044569945],[-9129609.998830672,5080709.5766256265],[-13499449.262834234,5474308.66460836],[-13676532.078647526,5216381.359872686],[-13699683.415786782,5479243.617479719],[-13699623.748539716,5564887.17959442],[-13691775.16784134,5608774.921974087],[-13639281.12612388,5710003.906795842],[-13665188.800646875,5690536.81397534],[-13685117.260416484,5706255.89043329],[-13666036.32045808,5674090.677911333],[-13644583.162150873,5689430.567282765],[-13674699.871148556,5702025.742549086],[-13731412.209122341,5351481.690366718],[-13794422.269176565,5803976.685273734],[-8375135.404018119,4900763.080477088],[-8391923.451896856,4879228.670479034],[-8488881.949141363,4873553.575548921],[-8549297.997893326,4911077.557021876],[-8917580.766592141,4966902.083253581],[-8896606.081720263,4925233.50165768],[-8924161.718853012,4932741.302285189],[-9162819.497241067,4141628.1097059953],[-8784878.471409844,3989352.5843011434],[-8909674.232966857,3868176.2110926486],[-9127162.728881177,4155326.464369905],[-9996180.905239103,4170210.793903249],[-9995932.451267602,4190009.3341491427],[-9672093.14323987,4319801.242250745],[-9664552.138294553,4295591.387681384],[-10880995.128097462,3554665.7471588613],[-10975785.19958496,3449200.9352399153],[-10940247.454024622,3452030.505810534],[-10636222.336309202,3497588.131398893],[-10634268.913016709,3476296.7983986377],[-10624216.039421385,3469247.6139420974],[-10843496.111220535,3852583.9520021933],[-10810473.217672559,3887597.575322736],[-10810541.723687189,3853522.515938372],[-10779255.647966519,3898488.534971102],[-10764503.366407612,3901163.9979030066],[-10794078.227783863,3894667.007004243],[-11845540.077201007,3734924.675659591],[-10962165.14856691,3453760.6332859634],[-10788002.910914073,3845098.2914359565],[-10736263.782323431,3883195.7071726643],[-12637364.966050787,4456197.584358848],[-12465486.726050304,5041503.7880835915],[-12462676.331921836,4966779.039127156],[-12456978.299070243,4972694.440082543],[-12432143.967077477,4907042.420375726],[-12455921.264845418,4946289.438578023],[-12448078.918038523,4922737.854774887],[-12456106.444818351,4996038.758500735],[-12455523.687284049,4961984.5915309535],[-8145691.083473111,5543677.869219811],[-8515557.995317608,4453898.278917696],[-8482509.687529884,4418436.452302017],[-8637005.333383255,4500444.537232725],[-8634068.725216128,4529016.465585389],[-8778224.237528184,4640150.382851611],[-8700500.857736832,4744304.216699261],[-8577917.315024504,4701991.182953185],[-8604378.481187671,4670555.028258638],[-8593564.237935068,4684480.2387125585],[-8612987.59664715,4700110.1658445],[-8630956.120934056,4738189.743326468],[-8616334.973735305,4725084.301052612],[-8620917.652080843,4706657.653929741],[-8629089.170622015,4690717.36329581],[-8629008.363803647,4620967.913400793],[-13601247.597579962,6054066.28731166],[-13029308.781573307,5848391.033859774],[-13273206.869330708,5816584.465818526],[-13061433.33796253,6050204.815515127],[-13070187.168760039,6061213.884144459],[-13413921.384862857,5870929.397623474],[-13389559.44826122,6007908.422287415],[-13648294.7766129,5730003.903397792],[-13665661.173774108,5951765.25515538],[-13683024.342670077,5941476.034878953],[-13622606.356958976,5981057.319003175],[-13633206.978108747,5978825.479707012],[-13656750.048536105,6049909.478038008],[-13706259.124899635,6119685.99415323],[-13706259.124899635,6119685.99415323],[-13615278.194880055,5967651.788813153],[-13602266.28224021,6131438.930390416],[-13618608.09480815,6182699.553714516],[-13635333.948487382,6240562.638944909],[-13604274.26321514,6090824.961064152],[-13608622.959122974,6015112.246998795],[-13617763.769866332,6034776.244591448],[-13619362.95227522,6069615.128657947],[-13597503.789521191,6070169.230181771],[-13615477.456768572,6077871.537103815],[-13586865.70936277,6032515.37108091],[-13615878.774664832,5989042.913558308],[-13632088.506656947,5719868.48627966],[-13648202.336907746,6000664.438264726],[-13594468.12927116,6000186.221332435],[-9965627.055733023,5327235.003737407],[-9787389.44491809,5361524.393430517]],\"mercator_x\":{\"__ndarray__\":\"me3gxzZjYsEZIXJMtW5iwc2CORHASmLB9j2SYtqNbMFPRdxW/dJvwfVLbtClzm/BF3PcN0fdZ8HMNloAGpRnwY0oOqPLiWfBAdiepXnUZ8F6ireQ9blnwb1Y6i62xWfBO0/k+nPCZ8GmtU8gIb9nwbiplItSwmfBYUxKw7a1Z8GLivs2UMlnwW0xj8oUzmfBzly4QcPOZ8E68INr9cxnwWI0MIn/xmfBhM5vL7PWZ8HFIgta58ZnwfrKlXN13mjBFX68RyD6acHdWY+i/dxpwUV6qKiPx2nBbHdqipLJacF0OPHxcNhpwek9iaBRv2nBCsrmeIS/acHO+fFY8LZpwZBNuig2wWnBTcBRMfhdasHL5NlEHg5qwbhjEIehtGnBnmluW3qVacGb1mJgHb9pwSHhRv7kwGnBRbGu+vjgacH/aqZt0OBpwborwdpE32nBn/A0/CnpacFWTCQ9A+RpwRQwDGxKBWrBK67rwLz4acHEFpB79PJpwc3QdKk272nBcFCX6CvxacEOV/3pId1pwRjNaGns7GnBCg38tfjlacH5uF583OVpwW7b162G3mnBG0CJ2Er2acEDd5i/rv1pwYvdr5UN52nBcNDKKCP9acG5gcg7v/9pwerGmgCB7GnBnirx4QvfacFlZ57vUtVpwXrZ/zTIc2nBg2rychlracFneTWdJRZpwebO3lKAkWnBfhaJwy+gacFH5hdG8FRpwdIeDQrPc2nBbXzUuVhMacHDHaIt/v9owSp2+sTf82jBz/osXasKacF5iKGnrglpwXit5O7XAmnBYL7eOkYEacEvjqf3NwppwQ1v/xB2/GjBRTbZqWX8aMEEq3PmxP9owbvbzCGY5mjB8duwP//paMG936dA3OVowZx+sFzv6GjB1ASbO9WJaMEnlveD97VowfqeQWXI22jB6aSRft/daMHe4SmbmuZowSMDxpzf1mjBsLQwfFzZaMFBO4NUxOhowZWOYMHh2GjB3v3MAPbbaMFvhFVzxNhowTJ04kn9FWnBSTDY4XkEacH2P4QOGv1owURQyR+tCWnB+3fotlz1aMEBDoLc4f9owYHzVFjgCWnBZBkEjocfacEALagoIydpwW7P6GKmJmnBzg0uhD45acFzXkqU3itpwRzrd3JRLmnBAJH7dPoWacF9v1g5VRVpwbPy2Ah9E2nB7ZA+rjYTacGCVzUQRgxpwWE3Lb7vIGnBOSf+EhAgacFq+pf5MyZpwZ16TzYtImnBnAf1kj8cacHLjZGTWOZpwabfpIHsqmnB6iLGKM7KacH5tQs5Os9pweCjLYZQDmrByMAP+yvsacFsUKsxG/NpwQXfCscWb2nBsveGUXBHacEow82h50ZpwX1BnQQ9/mjBw3CBffPfaMFF3ThOn+9owc6AA6AIsGjBXfQfIPjjaMEoJYVR6d9owT3KoOQoJWnBTm931ggQacENYJVpiSBpwWEg8i2xFWnBd2gDWvOxZsHig+9E9DtmwcAZA8YdP2bB+6M7g31EZsE0OKxAzU9mwSt0+BSmS2bBmnsbauVOZsFE9wbhiFRmwaul5wdiSmbBnqGDqCBEZsGwtYs0yk9mwSCvBNtcQWbBvMGlJPQwX8EehGdd5ytfwVrYPLp0/F7BIpvc+3cCX8EUiuFAtdFewaj8qVbUD2DBCmtzs+YBYcFEqofO5FxhwTGzTA1+XWHBvZ7NZ0piYcHx3Oe7HXthwZIFF2xeAGHBvlkWBVoIYcGHq371MgFhwa8MrvkOCmHBug1k0tASYcHO0XV26ARhwab/mktiDmHBLf7n3XkEYcFRjg/kABBhwTphBmKnDGHBjK4jMOFIYcHOdC6qF0NhwYa7Ygl6SWHBZQYhLGPhYcF+H6hNyU9hwZtod/GskGHBrn1IGQsaYsEE3CWOh9VhwXeG8dJa72HBmnS+I//oYcG4E8kW/udhwSTktFu/9GHB8T0rCJ3dYcG1MFik8eRhwXUqAY0M6GHBWr7jfS6QcMEjMGitO75wwcOyxGQ8xnDBF26Cr5DrcMFpUMpi+ZtwwRZ9dvt0yHDBQRmOcozCcMH+pLu8tMtowSu2QK8+sGjBlaYKK23BaMHdmnoWzk1owa6iIARG4WfBxhjpvGKjYsE7pfRAOqFiwSxlDH+0nWLB7m1G0VmtYsElYfO1v6diwTqvr4ezsWLBb3DSzqvBYsHdQBqZc7ZiwYS+gzhWtGLB3csJrnK6YsFJVfdrB7Fiwc4SLL69wWLBsBtf2GKmYsGQIK6EoatiwSjxunEiqmLBglqG5Y2lYsGE9NQ7Zopiwbpk2HXYTmLBRQsnX+hFYsEXtDBFyupjwfUaaLE7HWTBZqrZ7NwZZMFQ4Qj1VCtiwTaoyvFaT2DBJbcj8YBvYMFaQJdBKTtgwWZnNWu3SmDBp1OkriJOYMGxJbvWR0Ngwdc/5579ZGDBbUOVGZFuYMHWFQeUilJgwaMllTlHQ17BGM+weqotXsGZZLpadjlewb0AmyYrb2DBQLtT2prWXsErWFjf/y1ewXBPEmixKWLB1/mIg7Y1YsFUZMlcl69hwTQu/CFwnmHB6e4gRm2vYcGDMIyx4bZhwSRYb9aHsWHBAVtPWsPIYcGJUD+P2aVhwbsTNbcRnGHB7b8WEam3YcE67U9aEtJjwf0wAhgJ0mPBeqg4VBrWY8GJBepGutZjwfYWTy01wWPBGRHo4/zOY8HsogdsABVkwXnWsc2xCGTBKx3eWvs8Y8Ef+neqfy5jwSJRjfKFN2PBJmBv5L5EaMFykPeThjZowXnTFhFFlWfBEmVvFA7IZ8H6/Edofg1nwRKwXLDTZ2TBoEfJVjVyacGu9PX48W5pwWUIUattbGnBuXBT6uN8aMFBLxAYPHZowQFywoeXc2jBILm5195saMFnSAwanVZewYIoJPiDlV/BE47Au/CoX8E7qFfikH1fwRj00LLQy1/BUkYQJtiLX8EwpfYpBZZfwRZPWil6ql/Bz62S8xt/X8EdUDLhynBfwVMjoQIziF/BwVcjGs6LX8GXwbXSbntfwYpvyoZ7nmbBDUToc5qlZsHtcaHuCaNmwd/nhCgFDl/BCWHM5ZYtX8EVDlmlTAVfwU9FLooEH1/BpL1wtzVBX8FFgIzZSlBfwWbBDh2PbV/B2om6W8llX8EiSa7zUW9fwQmUJaYpVl/BmtvbT35dX8HwERJz6H5fwejzJcy9XV/BIimK3cdHX8Hke7QEKmVfwVOVL1vaiGDBg6ySIHcsYcFX4BZZuSJhwfxTx55qwWDB8OVDgoixYMFKlWaFGvZgwTUVlTCzDWHBptN6qVHmYcFPAmCWWu5hwdqtywIOS2HBKZuVcmjBYcFGULkvO55hwbXG6EskX2HBvmv2P9FpYcFXI2koh79pwdFHhIL+FWrBFSBObUwhasGQCfT3RCFqwc30XuVvHWrB8jQJJM4DasEy5p6ZdBBqwfNUVagvGmrBTjFBit4QasEHVzDlZAZqwfBy4HsZFWrBViGxhsowasEsGJ3Ijk9qwdBu29nX8l/BZfB1bp4BYMG1XV8+9jBgwfy97j92TmDBPuyHmEkCYcHQc53CC/hgwQjYADeABWHBGWbpbwh6YcEZyhXPfcFgwel2dEdt/mDBnv5SV59oYcH/t/ec8hBjwcHIcI7TEGPByGuVpLNyYsGz6GwEBW9iwdlfGWT8wGTB//9iJkXvZMGlXofu6t1kwYQLw8p3SWTB0W43nYNIZMGj8EIBm0NkwV4ejwOtrmTBcSz3Jo2eZMEJcii3lZ5kwUgkvPROj2TBdZy56xqIZMFiAUrHi5ZkwT9ueIL0l2bBZA/BpJ7oZMFFNSZdlJNkwSbLCPlQemTBV+PpnpYaaMHZzTvXqcZnwYsan4pKxWfBwvuRSYLCZ8F3TPL+YbZnwRmdeSj+wWfBU5Jg3Sm+Z8Gy8ztOFcJnwR47/nXMwWfBmp9XxcYSX8FQpNm//D1gwaw+ALbZLWDBXBOrqkl5YMF0+DSX2ndgwbXUmQc+vmDBg5Rym0qYYMFFrhSqb1xgwbDjZU9baWDBASqdhxNkYMHEuxdzj21gwRmx3oNVdmDB8dYo3zFvYMGl2N20bnFgwU28dSVsdWDBjEekC2J1YMEDYB/zO/FpwQamApn32WjBoo7R2w5RacHMltAqp+lowXR7ZmXt7WjB6ctQLMSVacHqJ1ju3olpwUwD2tg0CGrBuI6Ppa8QasE9J/cKKhlqwTs1bMup+2nBt6pM39YAasGXm43BVQxqwYUt/2OCJGrBhS3/Y4IkasEZdTzGFfhpwZ8cCEm78WnBGqsIA7b5acE2Alq+4AFqwShCbEi28mnBqiKx3tX0acG4vqJ4TPlpweIJeV4U+mnB8sFD+WfvacEg2Z2uLvhpwY0ZszY26mnB5w3K2GD4acGhiDYQSwBqwcHyx0opCGrBRv0ihOztacGfkMhhBwJjwd3EPK7/qmLB\",\"dtype\":\"float64\",\"shape\":[417]},\"mercator_y\":{\"__ndarray__\":\"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\",\"dtype\":\"float64\",\"shape\":[417]}},\"selected\":{\"id\":\"1071\",\"type\":\"Selection\"},\"selection_policy\":{\"id\":\"1070\",\"type\":\"UnionRenderers\"}},\"id\":\"1002\",\"type\":\"ColumnDataSource\"},{\"attributes\":{},\"id\":\"1070\",\"type\":\"UnionRenderers\"},{\"attributes\":{},\"id\":\"1036\",\"type\":\"SaveTool\"},{\"attributes\":{},\"id\":\"1011\",\"type\":\"LinearScale\"},{\"attributes\":{},\"id\":\"1037\",\"type\":\"ResetTool\"},{\"attributes\":{\"axis_label\":\"Longitude\",\"formatter\":{\"id\":\"1018\",\"type\":\"MercatorTickFormatter\"},\"ticker\":{\"id\":\"1016\",\"type\":\"MercatorTicker\"}},\"id\":\"1015\",\"type\":\"MercatorAxis\"},{\"attributes\":{\"source\":{\"id\":\"1002\",\"type\":\"ColumnDataSource\"}},\"id\":\"1056\",\"type\":\"CDSView\"},{\"attributes\":{},\"id\":\"1013\",\"type\":\"LinearScale\"},{\"attributes\":{\"dimension\":1,\"ticker\":{\"id\":\"1025\",\"type\":\"MercatorTicker\"}},\"id\":\"1032\",\"type\":\"Grid\"},{\"attributes\":{\"data_source\":{\"id\":\"1002\",\"type\":\"ColumnDataSource\"},\"glyph\":{\"id\":\"1053\",\"type\":\"Circle\"},\"hover_glyph\":null,\"muted_glyph\":null,\"nonselection_glyph\":{\"id\":\"1054\",\"type\":\"Circle\"},\"selection_glyph\":null,\"view\":{\"id\":\"1056\",\"type\":\"CDSView\"}},\"id\":\"1055\",\"type\":\"GlyphRenderer\"},{\"attributes\":{\"dimension\":\"lat\"},\"id\":\"1027\",\"type\":\"MercatorTickFormatter\"},{\"attributes\":{},\"id\":\"1071\",\"type\":\"Selection\"},{\"attributes\":{\"fill_alpha\":{\"value\":0.7},\"fill_color\":{\"field\":\"Price\",\"transform\":{\"id\":\"1003\",\"type\":\"LinearColorMapper\"}},\"line_color\":{\"field\":\"Price\",\"transform\":{\"id\":\"1003\",\"type\":\"LinearColorMapper\"}},\"size\":{\"units\":\"screen\",\"value\":30},\"x\":{\"field\":\"mercator_x\"},\"y\":{\"field\":\"mercator_y\"}},\"id\":\"1053\",\"type\":\"Circle\"},{\"attributes\":{\"axis_label\":\"Latitude\",\"formatter\":{\"id\":\"1027\",\"type\":\"MercatorTickFormatter\"},\"ticker\":{\"id\":\"1025\",\"type\":\"MercatorTicker\"}},\"id\":\"1024\",\"type\":\"MercatorAxis\"},{\"attributes\":{\"active_drag\":\"auto\",\"active_inspect\":\"auto\",\"active_multi\":null,\"active_scroll\":\"auto\",\"active_tap\":\"auto\",\"tools\":[{\"id\":\"1033\",\"type\":\"PanTool\"},{\"id\":\"1034\",\"type\":\"WheelZoomTool\"},{\"id\":\"1035\",\"type\":\"BoxZoomTool\"},{\"id\":\"1036\",\"type\":\"SaveTool\"},{\"id\":\"1037\",\"type\":\"ResetTool\"},{\"id\":\"1038\",\"type\":\"HelpTool\"},{\"id\":\"1039\",\"type\":\"HoverTool\"}]},\"id\":\"1040\",\"type\":\"Toolbar\"},{\"attributes\":{\"text\":\"Shoe Prices by region in the United States\"},\"id\":\"1005\",\"type\":\"Title\"},{\"attributes\":{\"dimension\":\"lon\"},\"id\":\"1018\",\"type\":\"MercatorTickFormatter\"},{\"attributes\":{\"overlay\":{\"id\":\"1069\",\"type\":\"BoxAnnotation\"}},\"id\":\"1035\",\"type\":\"BoxZoomTool\"},{\"attributes\":{\"callback\":null},\"id\":\"1007\",\"type\":\"DataRange1d\"},{\"attributes\":{\"high\":99,\"low\":1,\"palette\":[\"#00441b\",\"#1b7837\",\"#5aae61\",\"#a6dba0\",\"#d9f0d3\",\"#f7f7f7\",\"#e7d4e8\",\"#c2a5cf\",\"#9970ab\",\"#762a83\",\"#40004b\"]},\"id\":\"1003\",\"type\":\"LinearColorMapper\"},{\"attributes\":{\"callback\":null},\"id\":\"1009\",\"type\":\"DataRange1d\"},{\"attributes\":{\"ticker\":{\"id\":\"1016\",\"type\":\"MercatorTicker\"}},\"id\":\"1023\",\"type\":\"Grid\"},{\"attributes\":{},\"id\":\"1038\",\"type\":\"HelpTool\"},{\"attributes\":{\"color_mapper\":{\"id\":\"1003\",\"type\":\"LinearColorMapper\"},\"formatter\":{\"id\":\"1059\",\"type\":\"NumeralTickFormatter\"},\"label_standoff\":13,\"location\":[0,0],\"ticker\":{\"id\":\"1066\",\"type\":\"BasicTicker\"},\"width\":8},\"id\":\"1060\",\"type\":\"ColorBar\"},{\"attributes\":{\"format\":\"0.0[0000]\"},\"id\":\"1059\",\"type\":\"NumeralTickFormatter\"}],\"root_ids\":[\"1004\"]},\"title\":\"Bokeh Application\",\"version\":\"1.4.0\"}};\n",
       "  var render_items = [{\"docid\":\"dcbe83c0-a401-48b5-8696-7e8963b06cc4\",\"roots\":{\"1004\":\"cbebb742-9043-4715-9f6e-fae6ec47de3a\"}}];\n",
       "  root.Bokeh.embed.embed_items_notebook(docs_json, render_items);\n",
       "\n",
       "  }\n",
       "  if (root.Bokeh !== undefined) {\n",
       "    embed_document(root);\n",
       "  } else {\n",
       "    var attempts = 0;\n",
       "    var timer = setInterval(function(root) {\n",
       "      if (root.Bokeh !== undefined) {\n",
       "        clearInterval(timer);\n",
       "        embed_document(root);\n",
       "      } else {\n",
       "        attempts++;\n",
       "        if (attempts > 100) {\n",
       "          clearInterval(timer);\n",
       "          console.log(\"Bokeh: ERROR: Unable to run BokehJS code because BokehJS library is missing\");\n",
       "        }\n",
       "      }\n",
       "    }, 10, root)\n",
       "  }\n",
       "})(window);"
      ],
      "application/vnd.bokehjs_exec.v0+json": ""
     },
     "metadata": {
      "application/vnd.bokehjs_exec.v0+json": {
       "id": "1004"
      }
     },
     "output_type": "display_data"
    }
   ],
   "source": [
    "# Show map\n",
    "show(p)"
   ]
  },
  {
   "cell_type": "code",
   "execution_count": null,
   "metadata": {},
   "outputs": [],
   "source": []
  }
 ],
 "metadata": {
  "kernelspec": {
   "display_name": "Python 3",
   "language": "python",
   "name": "python3"
  },
  "language_info": {
   "codemirror_mode": {
    "name": "ipython",
    "version": 3
   },
   "file_extension": ".py",
   "mimetype": "text/x-python",
   "name": "python",
   "nbconvert_exporter": "python",
   "pygments_lexer": "ipython3",
   "version": "3.7.6"
  }
 },
 "nbformat": 4,
 "nbformat_minor": 4
}
