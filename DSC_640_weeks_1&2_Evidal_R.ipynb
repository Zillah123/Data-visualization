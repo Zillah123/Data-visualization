{
 "cells": [
  {
   "cell_type": "code",
   "execution_count": 1,
   "metadata": {},
   "outputs": [
    {
     "name": "stderr",
     "output_type": "stream",
     "text": [
      "Warning message:\n",
      "\"package 'ggplot2' was built under R version 3.6.3\"Warning message:\n",
      "\"package 'readxl' was built under R version 3.6.3\""
     ]
    }
   ],
   "source": [
    "library(ggplot2)\n",
    "library(readxl)"
   ]
  },
  {
   "cell_type": "code",
   "execution_count": 2,
   "metadata": {},
   "outputs": [],
   "source": [
    "my_data <- read_excel(\"C:\\\\Users\\\\pro_v\\\\OneDrive\\\\Desktop\\\\Bellevue University Data Science\\\\DSC 640\\\\Week 1-2\\\\ex1-2\\\\obama-approval-ratings.xls\")"
   ]
  },
  {
   "cell_type": "code",
   "execution_count": 3,
   "metadata": {},
   "outputs": [
    {
     "name": "stdout",
     "output_type": "stream",
     "text": [
      "tibble [13 x 4] (S3: tbl_df/tbl/data.frame)\n",
      " $ Issue     : chr [1:13] \"Race Relations\" \"Education\" \"Terrorism\" \"Energy Policy\" ...\n",
      " $ Approve   : num [1:13] 52 49 48 47 44 43 41 41 40 38 ...\n",
      " $ Disapprove: num [1:13] 38 40 45 42 48 51 53 54 57 59 ...\n",
      " $ None      : num [1:13] 10 11 7 11 8 6 6 5 3 3 ...\n"
     ]
    }
   ],
   "source": [
    "str(my_data)"
   ]
  },
  {
   "cell_type": "code",
   "execution_count": 4,
   "metadata": {},
   "outputs": [
    {
     "data": {
      "text/html": [
       "<table>\n",
       "<thead><tr><th scope=col>Issue</th><th scope=col>Approve</th><th scope=col>Disapprove</th><th scope=col>None</th></tr></thead>\n",
       "<tbody>\n",
       "\t<tr><td>Race Relations          </td><td>52                      </td><td>38                      </td><td>10                      </td></tr>\n",
       "\t<tr><td>Education               </td><td>49                      </td><td>40                      </td><td>11                      </td></tr>\n",
       "\t<tr><td>Terrorism               </td><td>48                      </td><td>45                      </td><td> 7                      </td></tr>\n",
       "\t<tr><td>Energy Policy           </td><td>47                      </td><td>42                      </td><td>11                      </td></tr>\n",
       "\t<tr><td>Foreign Affairs         </td><td>44                      </td><td>48                      </td><td> 8                      </td></tr>\n",
       "\t<tr><td>Environment             </td><td>43                      </td><td>51                      </td><td> 6                      </td></tr>\n",
       "\t<tr><td>Situation in Iraq       </td><td>41                      </td><td>53                      </td><td> 6                      </td></tr>\n",
       "\t<tr><td>Taxes                   </td><td>41                      </td><td>54                      </td><td> 5                      </td></tr>\n",
       "\t<tr><td>Healthcare Policy       </td><td>40                      </td><td>57                      </td><td> 3                      </td></tr>\n",
       "\t<tr><td>Economy                 </td><td>38                      </td><td>59                      </td><td> 3                      </td></tr>\n",
       "\t<tr><td>Situation in Afghanistan</td><td>36                      </td><td>57                      </td><td> 7                      </td></tr>\n",
       "\t<tr><td>Federal Budget Deficit  </td><td>31                      </td><td>64                      </td><td> 5                      </td></tr>\n",
       "\t<tr><td>Immigration             </td><td>29                      </td><td>62                      </td><td> 9                      </td></tr>\n",
       "</tbody>\n",
       "</table>\n"
      ],
      "text/latex": [
       "\\begin{tabular}{r|llll}\n",
       " Issue & Approve & Disapprove & None\\\\\n",
       "\\hline\n",
       "\t Race Relations           & 52                       & 38                       & 10                      \\\\\n",
       "\t Education                & 49                       & 40                       & 11                      \\\\\n",
       "\t Terrorism                & 48                       & 45                       &  7                      \\\\\n",
       "\t Energy Policy            & 47                       & 42                       & 11                      \\\\\n",
       "\t Foreign Affairs          & 44                       & 48                       &  8                      \\\\\n",
       "\t Environment              & 43                       & 51                       &  6                      \\\\\n",
       "\t Situation in Iraq        & 41                       & 53                       &  6                      \\\\\n",
       "\t Taxes                    & 41                       & 54                       &  5                      \\\\\n",
       "\t Healthcare Policy        & 40                       & 57                       &  3                      \\\\\n",
       "\t Economy                  & 38                       & 59                       &  3                      \\\\\n",
       "\t Situation in Afghanistan & 36                       & 57                       &  7                      \\\\\n",
       "\t Federal Budget Deficit   & 31                       & 64                       &  5                      \\\\\n",
       "\t Immigration              & 29                       & 62                       &  9                      \\\\\n",
       "\\end{tabular}\n"
      ],
      "text/markdown": [
       "\n",
       "| Issue | Approve | Disapprove | None |\n",
       "|---|---|---|---|\n",
       "| Race Relations           | 52                       | 38                       | 10                       |\n",
       "| Education                | 49                       | 40                       | 11                       |\n",
       "| Terrorism                | 48                       | 45                       |  7                       |\n",
       "| Energy Policy            | 47                       | 42                       | 11                       |\n",
       "| Foreign Affairs          | 44                       | 48                       |  8                       |\n",
       "| Environment              | 43                       | 51                       |  6                       |\n",
       "| Situation in Iraq        | 41                       | 53                       |  6                       |\n",
       "| Taxes                    | 41                       | 54                       |  5                       |\n",
       "| Healthcare Policy        | 40                       | 57                       |  3                       |\n",
       "| Economy                  | 38                       | 59                       |  3                       |\n",
       "| Situation in Afghanistan | 36                       | 57                       |  7                       |\n",
       "| Federal Budget Deficit   | 31                       | 64                       |  5                       |\n",
       "| Immigration              | 29                       | 62                       |  9                       |\n",
       "\n"
      ],
      "text/plain": [
       "   Issue                    Approve Disapprove None\n",
       "1  Race Relations           52      38         10  \n",
       "2  Education                49      40         11  \n",
       "3  Terrorism                48      45          7  \n",
       "4  Energy Policy            47      42         11  \n",
       "5  Foreign Affairs          44      48          8  \n",
       "6  Environment              43      51          6  \n",
       "7  Situation in Iraq        41      53          6  \n",
       "8  Taxes                    41      54          5  \n",
       "9  Healthcare Policy        40      57          3  \n",
       "10 Economy                  38      59          3  \n",
       "11 Situation in Afghanistan 36      57          7  \n",
       "12 Federal Budget Deficit   31      64          5  \n",
       "13 Immigration              29      62          9  "
      ]
     },
     "metadata": {},
     "output_type": "display_data"
    }
   ],
   "source": [
    "my_data"
   ]
  },
  {
   "cell_type": "code",
   "execution_count": 5,
   "metadata": {},
   "outputs": [
    {
     "data": {
      "image/png": "[encoded data removed]",
      "text/plain": [
       "plot without title"
      ]
     },
     "metadata": {},
     "output_type": "display_data"
    }
   ],
   "source": [
    "obamaplot<-ggplot(my_data, aes(x=Issue,y=Approve))+geom_col()+coord_flip()\n",
    "print(obamaplot+ggtitle(\"Obama's Approval ratings for the following Issues\"))"
   ]
  },
  {
   "cell_type": "code",
   "execution_count": 18,
   "metadata": {},
   "outputs": [
    {
     "ename": "ERROR",
     "evalue": "Error in match.names(clabs, names(xi)): names do not match previous names\n",
     "output_type": "error",
     "traceback": [
      "Error in match.names(clabs, names(xi)): names do not match previous names\nTraceback:\n",
      "1. rbind(data.frame(Issue, count = Approve, type = \"Approve\"), data.frame(Issue, \n .     count = Disapprove, type = \"Disapprove\"))",
      "2. rbind(deparse.level, ...)",
      "3. match.names(clabs, names(xi))",
      "4. stop(\"names do not match previous names\")"
     ]
    }
   ],
   "source": [
    "df1<-rbind(data.frame(Issue, \"count\"=Approve, \"type\"=\"Approve\"),\n",
    "          data.frame(Issue, \"count\"=Disapprove, \"type\"=\"Disapprove\"))"
   ]
  },
  {
   "cell_type": "code",
   "execution_count": null,
   "metadata": {},
   "outputs": [],
   "source": [
    "df1<-rbind(data.frame(my_data[\"Issue\"], \"count\"=my_data[\"Approve\"], \"type\"=\"Approve\"),\n",
    "          data.frame(my_data[\"Issue\"], \"count\"=my_data[\"Disapprove\"], \"type\"=\"Disapprove\"))\n",
    "ggplot(df2, aes(x=Issue, y=count, fill=type))+geom_bar(stat=\"identity\")"
   ]
  },
  {
   "cell_type": "code",
   "execution_count": 41,
   "metadata": {},
   "outputs": [
    {
     "name": "stdout",
     "output_type": "stream",
     "text": [
      "tibble [13 x 1] (S3: tbl_df/tbl/data.frame)\n",
      " $ Issue: chr [1:13] \"Race Relations\" \"Education\" \"Terrorism\" \"Energy Policy\" ...\n"
     ]
    }
   ],
   "source": [
    "str(my_data[\"Issue\"])"
   ]
  },
  {
   "cell_type": "code",
   "execution_count": 42,
   "metadata": {},
   "outputs": [
    {
     "data": {
      "text/html": [
       "<table>\n",
       "<thead><tr><th scope=col>Issue</th></tr></thead>\n",
       "<tbody>\n",
       "\t<tr><td>Race Relations          </td></tr>\n",
       "\t<tr><td>Education               </td></tr>\n",
       "\t<tr><td>Terrorism               </td></tr>\n",
       "\t<tr><td>Energy Policy           </td></tr>\n",
       "\t<tr><td>Foreign Affairs         </td></tr>\n",
       "\t<tr><td>Environment             </td></tr>\n",
       "\t<tr><td>Situation in Iraq       </td></tr>\n",
       "\t<tr><td>Taxes                   </td></tr>\n",
       "\t<tr><td>Healthcare Policy       </td></tr>\n",
       "\t<tr><td>Economy                 </td></tr>\n",
       "\t<tr><td>Situation in Afghanistan</td></tr>\n",
       "\t<tr><td>Federal Budget Deficit  </td></tr>\n",
       "\t<tr><td>Immigration             </td></tr>\n",
       "</tbody>\n",
       "</table>\n"
      ],
      "text/latex": [
       "\\begin{tabular}{r|l}\n",
       " Issue\\\\\n",
       "\\hline\n",
       "\t Race Relations          \\\\\n",
       "\t Education               \\\\\n",
       "\t Terrorism               \\\\\n",
       "\t Energy Policy           \\\\\n",
       "\t Foreign Affairs         \\\\\n",
       "\t Environment             \\\\\n",
       "\t Situation in Iraq       \\\\\n",
       "\t Taxes                   \\\\\n",
       "\t Healthcare Policy       \\\\\n",
       "\t Economy                 \\\\\n",
       "\t Situation in Afghanistan\\\\\n",
       "\t Federal Budget Deficit  \\\\\n",
       "\t Immigration             \\\\\n",
       "\\end{tabular}\n"
      ],
      "text/markdown": [
       "\n",
       "| Issue |\n",
       "|---|\n",
       "| Race Relations           |\n",
       "| Education                |\n",
       "| Terrorism                |\n",
       "| Energy Policy            |\n",
       "| Foreign Affairs          |\n",
       "| Environment              |\n",
       "| Situation in Iraq        |\n",
       "| Taxes                    |\n",
       "| Healthcare Policy        |\n",
       "| Economy                  |\n",
       "| Situation in Afghanistan |\n",
       "| Federal Budget Deficit   |\n",
       "| Immigration              |\n",
       "\n"
      ],
      "text/plain": [
       "   Issue                   \n",
       "1  Race Relations          \n",
       "2  Education               \n",
       "3  Terrorism               \n",
       "4  Energy Policy           \n",
       "5  Foreign Affairs         \n",
       "6  Environment             \n",
       "7  Situation in Iraq       \n",
       "8  Taxes                   \n",
       "9  Healthcare Policy       \n",
       "10 Economy                 \n",
       "11 Situation in Afghanistan\n",
       "12 Federal Budget Deficit  \n",
       "13 Immigration             "
      ]
     },
     "metadata": {},
     "output_type": "display_data"
    }
   ],
   "source": [
    "my_data[\"Issue\"]"
   ]
  },
  {
   "cell_type": "code",
   "execution_count": 14,
   "metadata": {},
   "outputs": [
    {
     "data": {
      "image/png": "[encoded data removed]",
      "text/plain": [
       "plot without title"
      ]
     },
     "metadata": {},
     "output_type": "display_data"
    }
   ],
   "source": [
    "ggplot(my_data, aes(x=Issue, y=Approve, fill=Disapprove))+geom_col(position=\"stack\")+coord_flip()"
   ]
  },
  {
   "cell_type": "code",
   "execution_count": 15,
   "metadata": {},
   "outputs": [
    {
     "data": {
      "text/html": [
       "<table>\n",
       "<thead><tr><th scope=col>Issue</th><th scope=col>Approve</th><th scope=col>Disapprove</th><th scope=col>None</th></tr></thead>\n",
       "<tbody>\n",
       "\t<tr><td>Race Relations          </td><td>52                      </td><td>38                      </td><td>10                      </td></tr>\n",
       "\t<tr><td>Education               </td><td>49                      </td><td>40                      </td><td>11                      </td></tr>\n",
       "\t<tr><td>Terrorism               </td><td>48                      </td><td>45                      </td><td> 7                      </td></tr>\n",
       "\t<tr><td>Energy Policy           </td><td>47                      </td><td>42                      </td><td>11                      </td></tr>\n",
       "\t<tr><td>Foreign Affairs         </td><td>44                      </td><td>48                      </td><td> 8                      </td></tr>\n",
       "\t<tr><td>Environment             </td><td>43                      </td><td>51                      </td><td> 6                      </td></tr>\n",
       "\t<tr><td>Situation in Iraq       </td><td>41                      </td><td>53                      </td><td> 6                      </td></tr>\n",
       "\t<tr><td>Taxes                   </td><td>41                      </td><td>54                      </td><td> 5                      </td></tr>\n",
       "\t<tr><td>Healthcare Policy       </td><td>40                      </td><td>57                      </td><td> 3                      </td></tr>\n",
       "\t<tr><td>Economy                 </td><td>38                      </td><td>59                      </td><td> 3                      </td></tr>\n",
       "\t<tr><td>Situation in Afghanistan</td><td>36                      </td><td>57                      </td><td> 7                      </td></tr>\n",
       "\t<tr><td>Federal Budget Deficit  </td><td>31                      </td><td>64                      </td><td> 5                      </td></tr>\n",
       "\t<tr><td>Immigration             </td><td>29                      </td><td>62                      </td><td> 9                      </td></tr>\n",
       "</tbody>\n",
       "</table>\n"
      ],
      "text/latex": [
       "\\begin{tabular}{r|llll}\n",
       " Issue & Approve & Disapprove & None\\\\\n",
       "\\hline\n",
       "\t Race Relations           & 52                       & 38                       & 10                      \\\\\n",
       "\t Education                & 49                       & 40                       & 11                      \\\\\n",
       "\t Terrorism                & 48                       & 45                       &  7                      \\\\\n",
       "\t Energy Policy            & 47                       & 42                       & 11                      \\\\\n",
       "\t Foreign Affairs          & 44                       & 48                       &  8                      \\\\\n",
       "\t Environment              & 43                       & 51                       &  6                      \\\\\n",
       "\t Situation in Iraq        & 41                       & 53                       &  6                      \\\\\n",
       "\t Taxes                    & 41                       & 54                       &  5                      \\\\\n",
       "\t Healthcare Policy        & 40                       & 57                       &  3                      \\\\\n",
       "\t Economy                  & 38                       & 59                       &  3                      \\\\\n",
       "\t Situation in Afghanistan & 36                       & 57                       &  7                      \\\\\n",
       "\t Federal Budget Deficit   & 31                       & 64                       &  5                      \\\\\n",
       "\t Immigration              & 29                       & 62                       &  9                      \\\\\n",
       "\\end{tabular}\n"
      ],
      "text/markdown": [
       "\n",
       "| Issue | Approve | Disapprove | None |\n",
       "|---|---|---|---|\n",
       "| Race Relations           | 52                       | 38                       | 10                       |\n",
       "| Education                | 49                       | 40                       | 11                       |\n",
       "| Terrorism                | 48                       | 45                       |  7                       |\n",
       "| Energy Policy            | 47                       | 42                       | 11                       |\n",
       "| Foreign Affairs          | 44                       | 48                       |  8                       |\n",
       "| Environment              | 43                       | 51                       |  6                       |\n",
       "| Situation in Iraq        | 41                       | 53                       |  6                       |\n",
       "| Taxes                    | 41                       | 54                       |  5                       |\n",
       "| Healthcare Policy        | 40                       | 57                       |  3                       |\n",
       "| Economy                  | 38                       | 59                       |  3                       |\n",
       "| Situation in Afghanistan | 36                       | 57                       |  7                       |\n",
       "| Federal Budget Deficit   | 31                       | 64                       |  5                       |\n",
       "| Immigration              | 29                       | 62                       |  9                       |\n",
       "\n"
      ],
      "text/plain": [
       "   Issue                    Approve Disapprove None\n",
       "1  Race Relations           52      38         10  \n",
       "2  Education                49      40         11  \n",
       "3  Terrorism                48      45          7  \n",
       "4  Energy Policy            47      42         11  \n",
       "5  Foreign Affairs          44      48          8  \n",
       "6  Environment              43      51          6  \n",
       "7  Situation in Iraq        41      53          6  \n",
       "8  Taxes                    41      54          5  \n",
       "9  Healthcare Policy        40      57          3  \n",
       "10 Economy                  38      59          3  \n",
       "11 Situation in Afghanistan 36      57          7  \n",
       "12 Federal Budget Deficit   31      64          5  \n",
       "13 Immigration              29      62          9  "
      ]
     },
     "metadata": {},
     "output_type": "display_data"
    }
   ],
   "source": [
    "Issue<-my_data[\"Issue\"]\n",
    "Approve<-my_data[\"Approve\"]\n",
    "Disapprove<-my_data[\"Disapprove\"]\n",
    "None<-my_data[\"None\"]\n",
    "df<-data.frame(Issue,Approve,Disapprove,None)\n",
    "df"
   ]
  },
  {
   "cell_type": "code",
   "execution_count": 21,
   "metadata": {},
   "outputs": [
    {
     "data": {
      "text/html": [
       "<table>\n",
       "<thead><tr><th scope=col>Issue</th><th scope=col>Approve</th><th scope=col>Disapprove</th><th scope=col>None</th></tr></thead>\n",
       "<tbody>\n",
       "\t<tr><td>Race Relations          </td><td>51                      </td><td>38                      </td><td>10                      </td></tr>\n",
       "\t<tr><td>Education               </td><td>49                      </td><td>40                      </td><td>11                      </td></tr>\n",
       "\t<tr><td>Terrorism               </td><td>48                      </td><td>45                      </td><td> 7                      </td></tr>\n",
       "\t<tr><td>Energy Policy           </td><td>47                      </td><td>42                      </td><td>11                      </td></tr>\n",
       "\t<tr><td>Foreign Affairs         </td><td>44                      </td><td>48                      </td><td> 8                      </td></tr>\n",
       "\t<tr><td>Environment             </td><td>43                      </td><td>51                      </td><td> 6                      </td></tr>\n",
       "\t<tr><td>Situation in Iraq       </td><td>41                      </td><td>53                      </td><td> 6                      </td></tr>\n",
       "\t<tr><td>Taxes                   </td><td>41                      </td><td>54                      </td><td> 5                      </td></tr>\n",
       "\t<tr><td>Healthcare Policy       </td><td>40                      </td><td>57                      </td><td> 3                      </td></tr>\n",
       "\t<tr><td>Economy                 </td><td>38                      </td><td>59                      </td><td> 3                      </td></tr>\n",
       "\t<tr><td>Situation in Afghanistan</td><td>36                      </td><td>57                      </td><td> 7                      </td></tr>\n",
       "\t<tr><td>Federal Budget Deficit  </td><td>31                      </td><td>64                      </td><td> 5                      </td></tr>\n",
       "\t<tr><td>Immigration             </td><td>29                      </td><td>62                      </td><td> 9                      </td></tr>\n",
       "</tbody>\n",
       "</table>\n"
      ],
      "text/latex": [
       "\\begin{tabular}{r|llll}\n",
       " Issue & Approve & Disapprove & None\\\\\n",
       "\\hline\n",
       "\t Race Relations           & 51                       & 38                       & 10                      \\\\\n",
       "\t Education                & 49                       & 40                       & 11                      \\\\\n",
       "\t Terrorism                & 48                       & 45                       &  7                      \\\\\n",
       "\t Energy Policy            & 47                       & 42                       & 11                      \\\\\n",
       "\t Foreign Affairs          & 44                       & 48                       &  8                      \\\\\n",
       "\t Environment              & 43                       & 51                       &  6                      \\\\\n",
       "\t Situation in Iraq        & 41                       & 53                       &  6                      \\\\\n",
       "\t Taxes                    & 41                       & 54                       &  5                      \\\\\n",
       "\t Healthcare Policy        & 40                       & 57                       &  3                      \\\\\n",
       "\t Economy                  & 38                       & 59                       &  3                      \\\\\n",
       "\t Situation in Afghanistan & 36                       & 57                       &  7                      \\\\\n",
       "\t Federal Budget Deficit   & 31                       & 64                       &  5                      \\\\\n",
       "\t Immigration              & 29                       & 62                       &  9                      \\\\\n",
       "\\end{tabular}\n"
      ],
      "text/markdown": [
       "\n",
       "| Issue | Approve | Disapprove | None |\n",
       "|---|---|---|---|\n",
       "| Race Relations           | 51                       | 38                       | 10                       |\n",
       "| Education                | 49                       | 40                       | 11                       |\n",
       "| Terrorism                | 48                       | 45                       |  7                       |\n",
       "| Energy Policy            | 47                       | 42                       | 11                       |\n",
       "| Foreign Affairs          | 44                       | 48                       |  8                       |\n",
       "| Environment              | 43                       | 51                       |  6                       |\n",
       "| Situation in Iraq        | 41                       | 53                       |  6                       |\n",
       "| Taxes                    | 41                       | 54                       |  5                       |\n",
       "| Healthcare Policy        | 40                       | 57                       |  3                       |\n",
       "| Economy                  | 38                       | 59                       |  3                       |\n",
       "| Situation in Afghanistan | 36                       | 57                       |  7                       |\n",
       "| Federal Budget Deficit   | 31                       | 64                       |  5                       |\n",
       "| Immigration              | 29                       | 62                       |  9                       |\n",
       "\n"
      ],
      "text/plain": [
       "   Issue                    Approve Disapprove None\n",
       "1  Race Relations           51      38         10  \n",
       "2  Education                49      40         11  \n",
       "3  Terrorism                48      45          7  \n",
       "4  Energy Policy            47      42         11  \n",
       "5  Foreign Affairs          44      48          8  \n",
       "6  Environment              43      51          6  \n",
       "7  Situation in Iraq        41      53          6  \n",
       "8  Taxes                    41      54          5  \n",
       "9  Healthcare Policy        40      57          3  \n",
       "10 Economy                  38      59          3  \n",
       "11 Situation in Afghanistan 36      57          7  \n",
       "12 Federal Budget Deficit   31      64          5  \n",
       "13 Immigration              29      62          9  "
      ]
     },
     "metadata": {},
     "output_type": "display_data"
    }
   ],
   "source": [
    "Approve<-c(51,49,48,47,44,43,41,41,40,38,36,31,29)\n",
    "Disapprove<-c(38,40,45,42,48,51,53,54,57,59,57,64,62)\n",
    "None<-c(10,11,7,11,8,6,6,5,3,3,7,5,9)\n",
    "df<-data.frame(Issue,Approve,Disapprove,None)\n",
    "df"
   ]
  },
  {
   "cell_type": "code",
   "execution_count": 22,
   "metadata": {},
   "outputs": [],
   "source": [
    "df2<-rbind(data.frame(Issue, \"count\" = Approve, \"type\"=\"Approve\"),\n",
    "          data.frame(Issue, \"count\"=Disapprove, \"type\"=\"Disapprove\"))"
   ]
  },
  {
   "cell_type": "code",
   "execution_count": 24,
   "metadata": {},
   "outputs": [
    {
     "data": {
      "image/png": "[encoded data removed]",
      "text/plain": [
       "plot without title"
      ]
     },
     "metadata": {},
     "output_type": "display_data"
    }
   ],
   "source": [
    "ggplot(df2, aes(x=Issue, y=count, fill=type))+geom_bar(stat=\"identity\")+coord_flip()"
   ]
  },
  {
   "cell_type": "code",
   "execution_count": 33,
   "metadata": {},
   "outputs": [
    {
     "data": {
      "image/png": "[encoded data removed]",
      "text/plain": [
       "Plot with title \"Pie Chart of Obama's Overall Ratings for all Issues\""
      ]
     },
     "metadata": {},
     "output_type": "display_data"
    }
   ],
   "source": [
    "x<-c(539,670,91)\n",
    "lbls<-c(\"Approve\",\"Disapprove\",\"None\")\n",
    "pct <- round(x/sum(x)*100)\n",
    "lbls <- paste(lbls, pct) # add percents to labels\n",
    "lbls <- paste(lbls,\"%\",sep=\"\") # ad % to labels\n",
    "pie(x,labels = lbls, col=rainbow(length(lbls)),\n",
    "   main=\"Pie Chart of Obama's Overall Ratings for all Issues\")\n",
    "legend(\"topright\", c(\"Approve\",\"Disapprove\",\"None\"), cex = 0.8,\n",
    "   fill = rainbow(length(x)))"
   ]
  },
  {
   "cell_type": "code",
   "execution_count": 45,
   "metadata": {},
   "outputs": [],
   "source": [
    "data <- data.frame(\n",
    "  category=c(\"Approve\",\"Disapprove\",\"None\"),\n",
    "  count=c(539,670,91))"
   ]
  },
  {
   "cell_type": "code",
   "execution_count": 46,
   "metadata": {},
   "outputs": [],
   "source": [
    "data$fraction = data$count / sum(data$count)\n",
    "data$ymax = cumsum(data$fraction)\n",
    "data$ymin = c(0, head(data$ymax, n=-1))"
   ]
  },
  {
   "cell_type": "code",
   "execution_count": 47,
   "metadata": {},
   "outputs": [
    {
     "data": {
      "image/png": "[encoded data removed]",
      "text/plain": [
       "plot without title"
      ]
     },
     "metadata": {},
     "output_type": "display_data"
    }
   ],
   "source": [
    "ggplot(data, aes(ymax=ymax, ymin=ymin, xmax=4, xmin=3, fill=category)) +\n",
    "     geom_rect() +\n",
    "     coord_polar(theta=\"y\") + # Try to remove that to understand how the chart is built initially\n",
    "     xlim(c(2, 4)) # Try to remove that to see how to make a pie chart"
   ]
  },
  {
   "cell_type": "code",
   "execution_count": 48,
   "metadata": {},
   "outputs": [
    {
     "data": {
      "image/png": "[encoded data removed]",
      "text/plain": [
       "plot without title"
      ]
     },
     "metadata": {},
     "output_type": "display_data"
    }
   ],
   "source": [
    "data$labelPosition <- (data$ymax + data$ymin) / 2\n",
    "\n",
    "# Compute a good label\n",
    "data$label <- paste0(data$category, \"\\n value: \", data$count)\n",
    "\n",
    "# Make the plot\n",
    "ggplot(data, aes(ymax=ymax, ymin=ymin, xmax=4, xmin=3, fill=category)) +\n",
    "  geom_rect() +\n",
    "  geom_label( x=3.5, aes(y=labelPosition, label=label), size=6) +\n",
    "  scale_fill_brewer(palette=4) +\n",
    "  coord_polar(theta=\"y\") +\n",
    "  xlim(c(2, 4)) +\n",
    "  theme_void() +\n",
    "  theme(legend.position = \"none\")"
   ]
  },
  {
   "cell_type": "code",
   "execution_count": null,
   "metadata": {},
   "outputs": [],
   "source": []
  }
 ],
 "metadata": {
  "kernelspec": {
   "display_name": "R",
   "language": "R",
   "name": "ir"
  },
  "language_info": {
   "codemirror_mode": "r",
   "file_extension": ".r",
   "mimetype": "text/x-r-source",
   "name": "R",
   "pygments_lexer": "r",
   "version": "3.6.1"
  }
 },
 "nbformat": 4,
 "nbformat_minor": 4
}
